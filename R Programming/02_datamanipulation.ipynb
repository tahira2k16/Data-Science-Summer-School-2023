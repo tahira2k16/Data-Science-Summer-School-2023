{
  "nbformat": 4,
  "nbformat_minor": 0,
  "metadata": {
    "colab": {
      "provenance": [],
      "toc_visible": true
    },
    "kernelspec": {
      "name": "ir",
      "display_name": "R"
    },
    "language_info": {
      "name": "R"
    }
  },
  "cells": [
    {
      "cell_type": "markdown",
      "metadata": {
        "id": "F-pPQdi3BZwb"
      },
      "source": [
        "# Welcome\n",
        "\n",
        "![](https://ds3.ai/2023/assets/r.png)\n",
        "\n",
        "**Welcome to the Intro to R Programming Workshop!**\n",
        "\n",
        "This is Part II. For a link to Part I click [here](https://colab.research.google.com/drive/1dLsdGbkvgn1JbWgsy9Z-pFmPd_2MG4Xu?usp=sharing).\n",
        "\n",
        "Link to Slides: https://favstats.github.io/ds3_r_intro/\n",
        "\n",
        "\n"
      ]
    },
    {
      "cell_type": "markdown",
      "metadata": {
        "id": "929d7eb2"
      },
      "source": [
        "\n",
        "# R Packages\n",
        "\n",
        "Packages are at the heart of R:\n",
        "\n",
        "* R packages are basically a collection of functions that you load into your working environment.\n",
        "\n",
        "* They contain code that other R users have prepared for the community.\n",
        "\n",
        "* It's good to know your packages, they can really make your life easier.\n",
        "\n",
        "* I suggest keeping track of package developments (for example on Twitter via #rstats)\n",
        "\n"
      ]
    },
    {
      "cell_type": "markdown",
      "metadata": {
        "id": "148db2bf"
      },
      "source": [
        "\n",
        "You can install packages in R like this using the `install.packages` function:"
      ]
    },
    {
      "cell_type": "code",
      "metadata": {
        "eval": false,
        "id": "a02968dd"
      },
      "source": [
        "install.packages(\"janitor\")"
      ],
      "execution_count": null,
      "outputs": []
    },
    {
      "cell_type": "markdown",
      "metadata": {
        "id": "0074f7f4"
      },
      "source": [
        "However, installing is not enough. You also need to load the package via `library`."
      ]
    },
    {
      "cell_type": "code",
      "metadata": {
        "id": "29e21dd6"
      },
      "source": [
        "library(janitor)"
      ],
      "execution_count": null,
      "outputs": []
    },
    {
      "cell_type": "markdown",
      "metadata": {
        "id": "129c4980"
      },
      "source": [
        "Think of `install.packages` as buying a set of tools (for free!) and `library` as pulling out the tools each time you want to work with them."
      ]
    },
    {
      "cell_type": "markdown",
      "metadata": {
        "id": "D-X6OadVNoI7"
      },
      "source": [
        "# The Tidyverse"
      ]
    },
    {
      "cell_type": "markdown",
      "metadata": {
        "id": "d1d85ef3"
      },
      "source": [
        "\n",
        "\n",
        "![](https://predictivehacks.com/wp-content/uploads/2020/11/tidyverse-default.png)\n"
      ]
    },
    {
      "cell_type": "markdown",
      "metadata": {
        "id": "4a6d68a3"
      },
      "source": [
        "## What is the `tidyverse`?\n",
        "\n",
        "The tidyverse describes itself:\n",
        "\n",
        "> The tidyverse is an opinionated **collection of R packages** designed for data science. All packages share an underlying design philosophy, grammar, and data structures."
      ]
    },
    {
      "cell_type": "markdown",
      "metadata": {
        "id": "0280c68c"
      },
      "source": [
        "<center>\n",
        "<img src=\"https://rstudio-education.github.io/tidyverse-cookbook/images/data-science-workflow.png\" style=\"width: 60%\" />\n",
        "</center>\n"
      ]
    },
    {
      "cell_type": "markdown",
      "metadata": {
        "id": "e6c13239"
      },
      "source": [
        "## Core principle: tidy data\n",
        "\n",
        "* Every column is a variable.\n",
        "* Every row is an observation.\n",
        "* Every cell is a single value.\n",
        "\n",
        "We have already seen tidy data:\n",
        "\n",
        "| Animal | Maximum Lifespan | Animal/Human Years Ratio  |\n",
        "|  --- | ---  |  --- |  \n",
        "| Domestic dog | 24.0 | 5.10 |\n",
        "| Domestic cat | 30.0 | 4.08 |\n",
        "| American alligator | 77.0 | 1.59 |\n",
        "| Golden hamster | 3.9 | 31.41 |\n",
        "| King penguin | 26.0 |  4.71 |\n"
      ]
    },
    {
      "cell_type": "markdown",
      "metadata": {
        "id": "cfabc387"
      },
      "source": [
        "### Untidy data I\n",
        "\n",
        "\n",
        "| Animal | Type | Value  |\n",
        "|  --- | ---  |  --- |  \n",
        "| Domestic dog | lifespan | 24.0 |\n",
        "| Domestic dog | ratio | 5.10 |\n",
        "| Domestic cat | lifespan | 30.0 |\n",
        "| Domestic cat | ratio | 4.08 |\n",
        "| American alligator | lifespan | 77.0 |\n",
        "| American alligator | ratio | 1.59 |\n",
        "| Golden hamster | lifespan | 3.9 |\n",
        "| Golden hamster | ratio | 31.41 |\n",
        "| King penguin | lifespan |  26.0 |\n",
        "| King penguin | ratio |  4.71 |\n",
        "\n",
        "\n",
        "The data above has multiple rows with the same observation (animal).\n",
        "\n",
        "= not tidy\n",
        "\n"
      ]
    },
    {
      "cell_type": "markdown",
      "metadata": {
        "id": "b6bd073b"
      },
      "source": [
        "### Untidy data II\n",
        "\n",
        "| Animal | Lifespan/Ratio  |\n",
        "|  --- | ---  |\n",
        "| Domestic dog | 24.0 / 5.10 |\n",
        "| Domestic cat | 30.0 / 4.08 |\n",
        "| American alligator | 77.0 / 1.59 |\n",
        "| Golden hamster | 3.9 / 31.41 |\n",
        "| King penguin | 26.0 /  4.71 |\n",
        "\n",
        "The data above has multiple variables per column.\n",
        "\n",
        "= not tidy\n"
      ]
    },
    {
      "cell_type": "markdown",
      "metadata": {
        "id": "614ec48f"
      },
      "source": [
        "### Core principle: tidy data\n",
        "\n",
        "<center>\n",
        "<img src=\"https://www.openscapes.org/img/blog/tidydata/tidydata_2.jpg\" style=\"width: 80%\" />\n",
        "</center>\n",
        "\n",
        "Artist: [Allison Horst](https://github.com/allisonhorst)"
      ]
    },
    {
      "cell_type": "markdown",
      "metadata": {
        "id": "82e06ea5"
      },
      "source": [
        "\n",
        "Tidy data has two decisive advantages:\n",
        "\n",
        "* Consistently prepared data is easier to read, process, load and save.\n",
        "\n",
        "* Many procedures (or the associated functions) in R require this type of data.\n",
        "\n",
        "<center>\n",
        "<img src=\"https://www.openscapes.org/img/blog/tidydata/tidydata_4.jpg\" style=\"width: 40%\" />\n",
        "</center>\n",
        "\n",
        "Artist: [Allison Horst](https://github.com/allisonhorst)\n"
      ]
    },
    {
      "cell_type": "markdown",
      "metadata": {
        "id": "2d7c1502"
      },
      "source": [
        "## Installing and loading the tidyverse\n",
        "\n",
        "First we install the packages of the tidyverse like this. In Google Colab we actually don't need to install the `tidyverse` because it comes pre-installed!"
      ]
    },
    {
      "cell_type": "code",
      "metadata": {
        "eval": false,
        "id": "44a7fb9b"
      },
      "source": [
        "# install.packages(\"tidyverse\")"
      ],
      "execution_count": null,
      "outputs": []
    },
    {
      "cell_type": "markdown",
      "metadata": {
        "id": "dd17495f"
      },
      "source": [
        "Then we load them:"
      ]
    },
    {
      "cell_type": "code",
      "metadata": {
        "lines_to_next_cell": 0,
        "id": "6174c050"
      },
      "source": [
        "library(tidyverse)"
      ],
      "execution_count": null,
      "outputs": []
    },
    {
      "cell_type": "markdown",
      "metadata": {
        "id": "7e62bc39"
      },
      "source": [
        "## A new dataset appears..\n",
        "\n",
        "We are going to work with a new data from here on out.\n",
        "\n",
        "No worries, we will stay within the animal kingdom but we need a dataset that is a little more complex than what we have seen already.\n",
        "\n",
        "**Meet the Palmer Station penguins!**\n",
        "\n",
        "Data were collected and made available by [Dr. Kristen Gorman](https://www.uaf.edu/cfos/people/faculty/detail/kristen-gorman.php) and the [Palmer Station, Antarctica LTER](https://pal.lternet.edu/).\n",
        "\n"
      ]
    },
    {
      "cell_type": "markdown",
      "metadata": {
        "id": "adc2f869"
      },
      "source": [
        "\n",
        "<center>\n",
        "<img src=\"https://github.com/allisonhorst/palmerpenguins/raw/main/man/figures/lter_penguins.png\" style=\"width: 80%\" />\n",
        "</center>\n",
        "\n",
        "<center>\n",
        "<img src=\"https://github.com/allisonhorst/palmerpenguins/raw/main/man/figures/culmen_depth.png\" style=\"width: 80%\" />\n",
        "</center>\n",
        "\n",
        "Artist: [Allison Horst](https://github.com/allisonhorst)\n",
        "\n",
        "\n",
        "\n"
      ]
    },
    {
      "cell_type": "markdown",
      "metadata": {
        "id": "99261aed"
      },
      "source": [
        "### Palmer Penguins\n",
        "\n",
        "We could install the R package `palmerpenguins` and then access the data.\n",
        "\n",
        "However, we are going to use a different method: directly load a .csv file (comma-separated values) into R from the internet.\n",
        "\n",
        "We can use the `readr` package which provides many convenient functions to load data into R. Here we need `read_csv`:"
      ]
    },
    {
      "cell_type": "code",
      "metadata": {
        "lines_to_next_cell": 0,
        "id": "99e21f5f"
      },
      "source": [
        "penguins_raw <- read_csv(\"https://raw.githubusercontent.com/allisonhorst/palmerpenguins/master/inst/extdata/penguins_raw.csv\")\n"
      ],
      "execution_count": null,
      "outputs": []
    },
    {
      "cell_type": "code",
      "metadata": {
        "lines_to_next_cell": 0,
        "id": "6a2f35d3"
      },
      "source": [
        "penguins_raw"
      ],
      "execution_count": null,
      "outputs": []
    },
    {
      "cell_type": "markdown",
      "metadata": {
        "id": "40442731"
      },
      "source": [
        "### take a `glimpse`\n",
        "\n",
        "We can also take a look at data set using the `glimpse` function from `dplyr`."
      ]
    },
    {
      "cell_type": "code",
      "metadata": {
        "lines_to_next_cell": 0,
        "id": "29b1022b"
      },
      "source": [
        "glimpse(penguins_raw)"
      ],
      "execution_count": null,
      "outputs": []
    },
    {
      "cell_type": "markdown",
      "metadata": {
        "id": "be9aa70a"
      },
      "source": [
        "\n",
        "\n",
        "## initial data cleaning using `janitor`"
      ]
    },
    {
      "cell_type": "markdown",
      "metadata": {
        "id": "c5d234c2"
      },
      "source": [
        "<center>\n",
        "<img src=\"https://github.com/sfirke/janitor/raw/main/man/figures/logo_small.png\" style=\"width: 20%\" />\n",
        "</center>\n",
        "\n"
      ]
    },
    {
      "cell_type": "markdown",
      "metadata": {
        "id": "5c0785ac"
      },
      "source": [
        "\n",
        "\n",
        "`janitor` is not offically part of the tidyverse package compilation but in my view it is incredibly important to know.\n",
        "\n",
        "Provides some convenient functions for basic cleaning of the data.\n",
        "\n",
        "Just like any tidverse-style package it fullfills the following criteria for its functions:\n",
        "\n",
        "> The data is always the first argument.\n",
        "\n",
        "This helps us to match by position.\n"
      ]
    },
    {
      "cell_type": "code",
      "metadata": {
        "id": "Xd2p7CDQPTLM"
      },
      "source": [
        "install.packages(\"janitor\")\n",
        "\n",
        "library(janitor)"
      ],
      "execution_count": null,
      "outputs": []
    },
    {
      "cell_type": "markdown",
      "metadata": {
        "id": "d90a3e09"
      },
      "source": [
        "### `clean_names()`\n",
        "\n",
        "One annoyance with the `penguins_raw` data is that it has spaces in the variable names. Urgh!\n",
        "\n",
        "R has to put quotes around the variable names that have spaces:"
      ]
    },
    {
      "cell_type": "code",
      "metadata": {
        "eval": false,
        "id": "cd228f26"
      },
      "source": [
        "penguins_raw$`Delta 15 N (o/oo)`\n",
        "penguins_raw$`Flipper Length (mm)`\n"
      ],
      "execution_count": null,
      "outputs": []
    },
    {
      "cell_type": "markdown",
      "metadata": {
        "id": "440b2abc"
      },
      "source": [
        "`janitor` can help with that:\n",
        "\n",
        "using a function called `clean_names()`\n",
        "\n"
      ]
    },
    {
      "cell_type": "markdown",
      "metadata": {
        "id": "fe309f30"
      },
      "source": [
        "\n",
        "`clean_names()` just magically turns all our messy column names into readable lower-case snake case:"
      ]
    },
    {
      "cell_type": "code",
      "metadata": {
        "id": "3dc22d56"
      },
      "source": [
        "\n",
        "penguins_clean <- clean_names(penguins_raw)\n"
      ],
      "execution_count": null,
      "outputs": []
    },
    {
      "cell_type": "markdown",
      "metadata": {
        "id": "cdd997ed"
      },
      "source": [
        "That is how the variables look like now:"
      ]
    },
    {
      "cell_type": "code",
      "metadata": {
        "lines_to_next_cell": 0,
        "id": "b12ef6dc"
      },
      "source": [
        "glimpse(penguins_clean)\n"
      ],
      "execution_count": null,
      "outputs": []
    },
    {
      "cell_type": "markdown",
      "metadata": {
        "id": "4702b540"
      },
      "source": [
        "### `remove_constant()`\n",
        "\n",
        "Now we have another problem. Not all variables in the `penguins_clean` data set are that useful.\n",
        "\n",
        "Some of them are the same across all observations. We don't need those variables, like `region`."
      ]
    },
    {
      "cell_type": "code",
      "metadata": {
        "id": "add7e8c3"
      },
      "source": [
        "table(penguins_clean$region)"
      ],
      "execution_count": null,
      "outputs": []
    },
    {
      "cell_type": "markdown",
      "metadata": {
        "id": "06ea7832"
      },
      "source": [
        "We can use the base R function `table` to quickly get some tabulations of our variable.\n"
      ]
    },
    {
      "cell_type": "markdown",
      "metadata": {
        "id": "761fb442"
      },
      "source": [
        "\n",
        "\n",
        "Here to help get rid of these *constant* columns is the function `remove_constant()`."
      ]
    },
    {
      "cell_type": "code",
      "metadata": {
        "message": true,
        "id": "fe24a98c"
      },
      "source": [
        "penguins_clean <- remove_constant(penguins_clean, quiet = F)"
      ],
      "execution_count": null,
      "outputs": []
    },
    {
      "cell_type": "markdown",
      "metadata": {
        "id": "ad306dbd"
      },
      "source": [
        "When we set `quiet = F` we even get some info about what exactly was removed. Neat!"
      ]
    },
    {
      "cell_type": "markdown",
      "metadata": {
        "id": "f3803c89"
      },
      "source": [
        "Another useful function in `janitor` is `remove_empty()` which removes all rows or columns that just consist of missing values (i.e. `NA`)\n",
        "\n",
        "\n"
      ]
    },
    {
      "cell_type": "markdown",
      "metadata": {
        "id": "XTVTIe9UeV5d"
      },
      "source": [
        "## Data cleaning using `tidyr`\n",
        "\n",
        "![](https://tidyr.tidyverse.org/logo.png)"
      ]
    },
    {
      "cell_type": "markdown",
      "metadata": {
        "id": "a54l92iqep9j"
      },
      "source": [
        "Now we are already fairly advanced in our tidying.\n",
        "\n",
        "But our dataset is still not entirely tidy yet.\n",
        "\n",
        "Consider the `species` variable:"
      ]
    },
    {
      "cell_type": "code",
      "metadata": {
        "id": "Yq2GA5RzehFL"
      },
      "source": [
        "table(penguins_clean$species)"
      ],
      "execution_count": null,
      "outputs": []
    },
    {
      "cell_type": "markdown",
      "metadata": {
        "id": "Au-SoTKve5Wi"
      },
      "source": [
        "This variable violates the tidy rule that each cell should include a single value.\n",
        "\n",
        "Species hold both the *common name* and the *latin name* of the penguin.\n",
        "\n",
        "### `separate()`\n",
        "\n",
        "We can use a `tidyr` function called `separate()` to turn this into two variables.\n",
        "\n",
        "Two arguments are important for that:\n",
        "\n",
        "+ `sep`: specifies by which character the value should be split\n",
        "+ `into`: a vector which specifies the resulting new variable names\n",
        "\n",
        "In our case we want to split by an empty space and opening bracket ` \\\\(` and will name our variables `species` and `latin_name`:"
      ]
    },
    {
      "cell_type": "code",
      "metadata": {
        "id": "4nbyOz3EfiCM"
      },
      "source": [
        "penguins_clean <- separate(penguins_clean, species, sep = \" \\\\(\", into = c(\"species\", \"latin_name\"))"
      ],
      "execution_count": null,
      "outputs": []
    },
    {
      "cell_type": "code",
      "metadata": {
        "id": "QP5apUf-gQzk"
      },
      "source": [
        "penguins_clean"
      ],
      "execution_count": null,
      "outputs": []
    },
    {
      "cell_type": "markdown",
      "metadata": {
        "id": "NXbzV1azjVdj"
      },
      "source": [
        "Now there is still a trailing `)` at the end of `latin_name`. We can remove that using the `stringr` package and more specifically the `str_remove()` function."
      ]
    },
    {
      "cell_type": "code",
      "metadata": {
        "id": "OCVEt_b85z0P"
      },
      "source": [
        "penguins_clean$latin_name <- str_remove(penguins_clean$latin_name, \"\\\\)\")"
      ],
      "execution_count": null,
      "outputs": []
    },
    {
      "cell_type": "code",
      "metadata": {
        "id": "dpv8TKZw6R8_"
      },
      "source": [
        "penguins_clean"
      ],
      "execution_count": null,
      "outputs": []
    },
    {
      "cell_type": "markdown",
      "metadata": {
        "id": "iKCMqygJjbGn"
      },
      "source": [
        "There is a also a function called `unite()` which works in the opposite direction."
      ]
    },
    {
      "cell_type": "markdown",
      "metadata": {
        "id": "zdTKiwd6gZWO"
      },
      "source": [
        "Now our data is in tidy format!\n",
        "\n",
        "We were in luck because the data pretty much already came in a format that was: 1 observation per row.\n",
        "\n",
        "But what if that is not the case?\n",
        "\n"
      ]
    },
    {
      "cell_type": "markdown",
      "metadata": {
        "id": "TgzScaQvhKwR"
      },
      "source": [
        "### `pivot_wider()` and `pivot_longer()`\n",
        "\n",
        "`tidyr` also comes equipped to deal with data that has more that one observation per row.\n",
        "\n",
        "The function to use here is called `pivot_wider`.\n",
        "\n",
        "Now our `penguin_clean` data is already tidy.\n",
        "\n",
        "But we can just read in a dataset that isn't:\n"
      ]
    },
    {
      "cell_type": "code",
      "metadata": {
        "id": "ym9X1KMblzcz"
      },
      "source": [
        "untidy_animals <- read_csv(\"https://github.com/favstats/ds3_r_intro/blob/main/data/untidy_animals.csv?raw=true\")\n",
        "untidy_animals"
      ],
      "execution_count": null,
      "outputs": []
    },
    {
      "cell_type": "markdown",
      "metadata": {
        "id": "CbnB_ymQn0EJ"
      },
      "source": [
        "You may recognize this data from the subsection *Untidy data I*\n",
        "\n",
        "Now let's use `pivot_wider` to make every row an observation.\n",
        "\n",
        "We need two main arguments for that:\n",
        "\n",
        "1. `names_from`: tells the function where the new column names come from\n",
        "2. `values_from`: tells the function where the values should come from\n",
        "\n"
      ]
    },
    {
      "cell_type": "code",
      "metadata": {
        "id": "svPQMWZEnw6V"
      },
      "source": [
        "tidy_animals <- pivot_wider(untidy_animals,  names_from = Type, values_from = Value)\n",
        "tidy_animals"
      ],
      "execution_count": null,
      "outputs": []
    },
    {
      "cell_type": "markdown",
      "metadata": {
        "id": "BsQbcSPuomwA"
      },
      "source": [
        "`pivot_longer` can untidy our data again\n",
        "\n",
        "The argument `cols = ` tells the function which variables to turn into long format:"
      ]
    },
    {
      "cell_type": "code",
      "metadata": {
        "id": "cLtEJlqroqk9"
      },
      "source": [
        "pivot_longer(tidy_animals,  cols = c(lifespan, ratio))"
      ],
      "execution_count": null,
      "outputs": []
    },
    {
      "cell_type": "markdown",
      "metadata": {
        "id": "e531ec83"
      },
      "source": [
        "\n",
        "\n",
        "## Data manipulation using `dplyr`\n",
        "\n",
        "<center>\n",
        "<img src=\"https://github.com/allisonhorst/stats-illustrations/blob/main/rstats-artwork/dplyr_wrangling.png?raw=true\" style=\"width: 62%\" />\n",
        "</center>"
      ]
    },
    {
      "cell_type": "markdown",
      "metadata": {
        "id": "aecfec0b"
      },
      "source": [
        "Artist: [Allison Horst](https://github.com/allisonhorst)\n"
      ]
    },
    {
      "cell_type": "markdown",
      "metadata": {
        "id": "a4af7eef"
      },
      "source": [
        "\n",
        "\n",
        "### `select()`\n",
        "\n",
        "helps you select variables\n",
        "\n",
        "\n",
        "\n"
      ]
    },
    {
      "cell_type": "markdown",
      "metadata": {
        "id": "128d19e3"
      },
      "source": [
        "\n",
        "\n",
        "![](https://favstats.shinyapps.io/r_intro/_w_bfa1a45e/images/select.png)\n",
        "\n",
        "`select()` is part of the dplyr package and helps you select variables\n",
        "\n",
        "Remember: with tidyverse-style functions, **data is always the first argument**.\n"
      ]
    },
    {
      "cell_type": "markdown",
      "metadata": {
        "id": "b08b2309"
      },
      "source": [
        "#### Select variables\n",
        "\n",
        "Here we only keep `individual_id`, `sex` and `species`."
      ]
    },
    {
      "cell_type": "code",
      "metadata": {
        "lines_to_next_cell": 0,
        "id": "1815048e"
      },
      "source": [
        "select(penguins_clean, individual_id, sex, species)"
      ],
      "execution_count": null,
      "outputs": []
    },
    {
      "cell_type": "markdown",
      "metadata": {
        "id": "lhRNtPdKVITj"
      },
      "source": [
        "But `select()` is more powerful than that.\n",
        "\n",
        "#### Remove variables\n",
        "\n",
        "We can also **remove** variables with a **`-`** (minus).\n",
        "\n",
        "Here we remove `individual_id`, `sex` and `species`."
      ]
    },
    {
      "cell_type": "code",
      "metadata": {
        "id": "rTJ_rxOHVUrH"
      },
      "source": [
        "select(penguins_clean, -individual_id, -sex, -species)"
      ],
      "execution_count": null,
      "outputs": []
    },
    {
      "cell_type": "markdown",
      "metadata": {
        "id": "2R5aUe5xWUf6"
      },
      "source": [
        "#### Selection helpers\n",
        "\n",
        "These *selection helpers* match variables according to a given pattern.\n",
        "\n",
        "`starts_with()`: Starts with a prefix.\n",
        "\n",
        "`ends_with()`: Ends with a suffix.\n",
        "\n",
        "`contains()`: Contains a literal string.\n",
        "\n",
        "`matches()`: Matches a regular expression.\n",
        "\n",
        "\n",
        "For example: let's keep all variables that start with `s`:\n"
      ]
    },
    {
      "cell_type": "code",
      "metadata": {
        "id": "p6a64Qd98e5c"
      },
      "source": [
        "select(penguins_clean, starts_with(\"s\"))"
      ],
      "execution_count": null,
      "outputs": []
    },
    {
      "cell_type": "markdown",
      "metadata": {
        "id": "_BkoGUq_jwrY"
      },
      "source": [
        "#### Even more ways to select\n",
        "\n",
        "Select the first 5 variables:"
      ]
    },
    {
      "cell_type": "code",
      "metadata": {
        "id": "d-I90fcKjzfb"
      },
      "source": [
        "select(penguins_clean, 1:5)"
      ],
      "execution_count": null,
      "outputs": []
    },
    {
      "cell_type": "markdown",
      "metadata": {
        "id": "5z7QBlT1j6zU"
      },
      "source": [
        "Select everything from `individual_id` to `flipper_length_mm`.\n",
        "\n",
        "\n"
      ]
    },
    {
      "cell_type": "code",
      "metadata": {
        "id": "EUkMbVUtkCNM"
      },
      "source": [
        "select(penguins_clean, individual_id:flipper_length_mm)"
      ],
      "execution_count": null,
      "outputs": []
    },
    {
      "cell_type": "markdown",
      "metadata": {
        "id": "0732a27f"
      },
      "source": [
        "\n",
        "\n",
        "### `filter()`\n",
        "\n",
        "helps you filter rows\n",
        "\n"
      ]
    },
    {
      "cell_type": "markdown",
      "metadata": {
        "id": "324f245f"
      },
      "source": [
        "\n",
        "\n",
        "![](https://favstats.shinyapps.io/r_intro/_w_bfa1a45e/images/filter.png)\n",
        "\n",
        "Here we only keep penguins from the Island `Dream`."
      ]
    },
    {
      "cell_type": "code",
      "metadata": {
        "lines_to_next_cell": 0,
        "id": "bcf93f38"
      },
      "source": [
        "filter(penguins_clean, island == \"Dream\")"
      ],
      "execution_count": null,
      "outputs": []
    },
    {
      "cell_type": "markdown",
      "metadata": {
        "id": "68ffc22a"
      },
      "source": [
        "#### `%in%`\n",
        "\n",
        "\n",
        "Here the **`%in%`** operator can come in handy again if we want to filter more than one island:"
      ]
    },
    {
      "cell_type": "code",
      "metadata": {
        "lines_to_next_cell": 0,
        "id": "3109c068"
      },
      "source": [
        "islands_to_keep <- c(\"Dream\", \"Biscoe\")\n",
        "\n",
        "filter(penguins_clean, island %in% islands_to_keep)"
      ],
      "execution_count": null,
      "outputs": []
    },
    {
      "cell_type": "markdown",
      "metadata": {
        "id": "c5369844"
      },
      "source": [
        "\n",
        "\n",
        "### `mutate()`\n",
        "\n",
        "helps you create variables\n",
        "\n"
      ]
    },
    {
      "cell_type": "markdown",
      "metadata": {
        "id": "d26a5104"
      },
      "source": [
        "\n",
        "\n",
        "![](https://favstats.shinyapps.io/r_intro/_w_dfe6b732/images/mutate.png)\n",
        "\n",
        "`mutate` will take a statement like this:\n",
        "\n",
        "`variable_name = some_calculation`\n",
        "\n",
        "and attach `variable_name` at the *end of the dataset*.\n"
      ]
    },
    {
      "cell_type": "markdown",
      "metadata": {
        "id": "286d1508"
      },
      "source": [
        "\n",
        "Let's say we want to calculate penguin bodymass in kg rather than gram.\n",
        "\n",
        "We take the variable `body_mass_g` and divided by `1000`."
      ]
    },
    {
      "cell_type": "code",
      "metadata": {
        "id": "9efc3c72"
      },
      "source": [
        "pg_new <- mutate(penguins_clean, bodymass_kg = body_mass_g/1000)"
      ],
      "execution_count": null,
      "outputs": []
    },
    {
      "cell_type": "markdown",
      "metadata": {
        "id": "9ll1Fx6TlJV2"
      },
      "source": [
        "We temporarily assign the dataset to `pg_new` just to check whether it worked correctly:"
      ]
    },
    {
      "cell_type": "code",
      "metadata": {
        "lines_to_next_cell": 0,
        "id": "27637fd6"
      },
      "source": [
        "select(pg_new, bodymass_kg, body_mass_g)"
      ],
      "execution_count": null,
      "outputs": []
    },
    {
      "cell_type": "markdown",
      "metadata": {
        "id": "w5RXaxASJVDP"
      },
      "source": [
        "#### Recoding with `ifelse`\n",
        "\n",
        "`ifelse()` is a very useful function that allows to easily recode variables based on logical tests.\n",
        "\n",
        "It's basic functionality looks like this:\n",
        "\n",
        "$$\\color{red}{\\text{ifelse}}(\\color{orange}{\\text{logical test}},\\color{blue}{\\text{what should happen if TRUE}}, \\color{green}{\\text{what should happen if FALSE}})$$\n",
        "\n",
        "Here is a very basic example:\n"
      ]
    },
    {
      "cell_type": "code",
      "metadata": {
        "id": "5beSOylEKZq3"
      },
      "source": [
        "ifelse(1 == 1, \"Pick me if test is TRUE\", \"Pick me if test is FALSE\")"
      ],
      "execution_count": null,
      "outputs": []
    },
    {
      "cell_type": "code",
      "metadata": {
        "id": "xselfwTFLDFc"
      },
      "source": [
        "ifelse(1 != 1, \"Pick me if test is TRUE\", \"Pick me if test is FALSE\")"
      ],
      "execution_count": null,
      "outputs": []
    },
    {
      "cell_type": "markdown",
      "metadata": {
        "id": "yFHFhkAMLLCv"
      },
      "source": [
        "Let's use `ifelse` in combination with `mutate`.\n",
        "\n",
        "Let's create the variable `sex_short` which has a shorter label for sex:"
      ]
    },
    {
      "cell_type": "code",
      "metadata": {
        "id": "FftUhUNELOx1"
      },
      "source": [
        "pg_new <- mutate(penguins_clean, sex_short = ifelse(sex == \"MALE\", \"m\", \"f\"))"
      ],
      "execution_count": null,
      "outputs": []
    },
    {
      "cell_type": "markdown",
      "metadata": {
        "id": "le8F4uJPl37K"
      },
      "source": [
        "We temporarily assign the dataset to `pg_new` just to check whether it worked correctly:"
      ]
    },
    {
      "cell_type": "code",
      "metadata": {
        "id": "fhJ93vGn-pg7"
      },
      "source": [
        "select(pg_new, sex, sex_short)"
      ],
      "execution_count": null,
      "outputs": []
    },
    {
      "cell_type": "markdown",
      "metadata": {
        "id": "6fhCVvfmL3vu"
      },
      "source": [
        "#### Recoding with `case_when`\n",
        "\n",
        "`case_when` (from the `dplyr` package) is like `ifelse` but allows for much more complex combinations.\n",
        "\n",
        "The basic setup for a `case_when` call looks like this:\n",
        "\n",
        "\n",
        "case_when(\n",
        "\n",
        "\n",
        "> $\\color{orange}{\\text{logical test}}$ ~ $\\color{blue}{\\text{what should happen if TRUE}}$,\n",
        "\n",
        "> $\\color{orange}{\\text{logical test}}$ ~ $\\color{blue}{\\text{what should happen if TRUE}}$,\n",
        "\n",
        "\n",
        "> $\\color{orange}{\\text{logical test}}$ ~ $\\color{blue}{\\text{what should happen if TRUE}}$,\n",
        "\n",
        "> $TRUE$ ~ $\\color{green}{\\text{what should happen with everything else}}$,\n",
        "\n",
        ")\n",
        "\n",
        "The following code recodes a numeric vector (1 through 50) into three categorical ones:\n"
      ]
    },
    {
      "cell_type": "code",
      "metadata": {
        "id": "3_SmmpceM8w6"
      },
      "source": [
        "x <- c(1:50)\n",
        "\n",
        "x"
      ],
      "execution_count": null,
      "outputs": []
    },
    {
      "cell_type": "code",
      "metadata": {
        "id": "EWogNsPT_WQD"
      },
      "source": [
        "case_when(\n",
        "  x %in% 1:10 ~ \"1 through 10\",\n",
        "  x %in% 1:30 ~ \"11 through 30\",\n",
        "  TRUE ~ \"above 30\"\n",
        ")"
      ],
      "execution_count": null,
      "outputs": []
    },
    {
      "cell_type": "markdown",
      "metadata": {
        "id": "7_Q1iB5YOC2P"
      },
      "source": [
        "Let's use `case_when` in combination with `mutate`.\n",
        "\n",
        "Creating the variable `short_island` which has a shorter label for `island`:\n",
        "\n",
        "\n"
      ]
    },
    {
      "cell_type": "code",
      "metadata": {
        "id": "yeRhbIgvOLDD"
      },
      "source": [
        "test <- mutate(penguins_clean,\n",
        "        island_short = case_when(\n",
        "          island == \"Torgersen\" ~ \"T\",\n",
        "          island == \"Biscoe\" ~ \"B\",\n",
        "          island == \"Dream\" ~ \"D\"\n",
        "        ))"
      ],
      "execution_count": null,
      "outputs": []
    },
    {
      "cell_type": "code",
      "metadata": {
        "id": "u4XlnNXDAUhd"
      },
      "source": [
        "select(test, island, island_short)"
      ],
      "execution_count": null,
      "outputs": []
    },
    {
      "cell_type": "markdown",
      "metadata": {
        "id": "ZSN8J25MO8E7"
      },
      "source": [
        "With `case_when` you can also mix different variables making this a very powerful tool!"
      ]
    },
    {
      "cell_type": "markdown",
      "metadata": {
        "id": "6a3f49a8"
      },
      "source": [
        "\n",
        "\n",
        "### `rename()`\n",
        "\n",
        "\n",
        "\n",
        "Just changes the variable name but leaves all else intact:\n"
      ]
    },
    {
      "cell_type": "code",
      "metadata": {
        "lines_to_next_cell": 0,
        "id": "301b8da3"
      },
      "source": [
        "rename(penguins_clean, sample = sample_number)"
      ],
      "execution_count": null,
      "outputs": []
    },
    {
      "cell_type": "markdown",
      "metadata": {
        "id": "ikGoQLH6X3mf"
      },
      "source": [
        "\n",
        "### `arrange()`\n",
        "\n",
        "You can order your data to show the highest or lowest value first.\n",
        "\n",
        "Let's order by `flipper_length_mm`.\n",
        "\n",
        "Lowest first:"
      ]
    },
    {
      "cell_type": "code",
      "metadata": {
        "id": "AICmAfpnX5iP"
      },
      "source": [
        "arrange(penguins_clean, flipper_length_mm)\n"
      ],
      "execution_count": null,
      "outputs": []
    },
    {
      "cell_type": "markdown",
      "metadata": {
        "id": "Xs9PGmr7X9kZ"
      },
      "source": [
        "\n",
        "Highest first using `desc()` (for descendant):\n"
      ]
    },
    {
      "cell_type": "code",
      "metadata": {
        "id": "cjkAYYbeYA1X"
      },
      "source": [
        "arrange(penguins_clean, desc(flipper_length_mm))"
      ],
      "execution_count": null,
      "outputs": []
    },
    {
      "cell_type": "markdown",
      "metadata": {
        "id": "f3f21f9c"
      },
      "source": [
        "\n",
        "\n",
        "### `group_by()` and `summarize()`\n",
        "\n",
        "When you want to aggregate your data (by groups)\n",
        "\n",
        "Sometimes we want to calculate **group statistics**.\n",
        "\n",
        "In other languages this is often a pain.\n",
        "\n",
        "With `dplyr` this is fairly easy **and** readable.\n",
        "\n",
        "<img src=\"https://learn.r-journalism.com/wrangling/dplyr/images/groupby.png\" style=\"width: 80%\" />\n",
        "\n",
        "\n",
        "\n"
      ]
    },
    {
      "cell_type": "markdown",
      "metadata": {
        "id": "f34d9209"
      },
      "source": [
        "Let's calculate the average `culmen_length_mm` for each sex.\n",
        "\n",
        "*First* we group `penguins_clean` by `sex`."
      ]
    },
    {
      "cell_type": "code",
      "metadata": {
        "id": "168a902e"
      },
      "source": [
        "grouped_by_sex <- group_by(penguins_clean, sex)"
      ],
      "execution_count": null,
      "outputs": []
    },
    {
      "cell_type": "markdown",
      "metadata": {
        "id": "d406a8f4"
      },
      "source": [
        "`summarize` works in a similar way to `mutate`:\n",
        "\n",
        "`variable_name = some_calculation`"
      ]
    },
    {
      "cell_type": "code",
      "metadata": {
        "lines_to_next_cell": 0,
        "id": "1d5d5e5d"
      },
      "source": [
        "summarise(grouped_by_sex, avg_culmen_length_mm = mean(culmen_length_mm, na.rm = T))"
      ],
      "execution_count": null,
      "outputs": []
    },
    {
      "cell_type": "markdown",
      "metadata": {
        "id": "gdo1qFmTmwYg"
      },
      "source": [
        "We could also keep the data structure by using `mutate` on a grouped dataset:"
      ]
    },
    {
      "cell_type": "code",
      "metadata": {
        "id": "M8HqndMEDepH"
      },
      "source": [
        "mutate(grouped_by_sex, avg_culmen_length_mm = mean(culmen_length_mm, na.rm = T))"
      ],
      "execution_count": null,
      "outputs": []
    },
    {
      "cell_type": "markdown",
      "metadata": {
        "id": "WnLu2_3bcxVP"
      },
      "source": [
        "### `count()`\n",
        "\n",
        "Now this is a function that I use all the time.\n",
        "\n",
        "This function helps you count how often a certain value occur(s) within variables(s).\n",
        "\n",
        "Simply specify which variable you want to count.\n",
        "\n",
        "Let's count how often the species occur.\n"
      ]
    },
    {
      "cell_type": "code",
      "metadata": {
        "id": "poGXtqn1c_g6"
      },
      "source": [
        "count(penguins_clean, species, sort = T)"
      ],
      "execution_count": null,
      "outputs": []
    },
    {
      "cell_type": "markdown",
      "metadata": {
        "id": "yRQgtI0hdAI5"
      },
      "source": [
        "The `sort = T` tells the function to sort by the highest occuring frequency."
      ]
    },
    {
      "cell_type": "markdown",
      "metadata": {
        "id": "c0ef238b"
      },
      "source": [
        "\n",
        "\n",
        "### The `%>%` operator\n",
        "\n",
        "<center>\n",
        "<img src=\"https://rpodcast.github.io/officer-advrmarkdown/img/magrittr.png\" style=\"width: 62%\" />\n",
        "</center>\n",
        "\n"
      ]
    },
    {
      "cell_type": "markdown",
      "metadata": {
        "id": "b2d1ef62"
      },
      "source": [
        "\n",
        "\n",
        "The point of the pipe is to help you write code in a way that is easier to read and understand.\n",
        "\n",
        "Let's consider an example with some data manipulation we have done so far:"
      ]
    },
    {
      "cell_type": "code",
      "metadata": {
        "lines_to_next_cell": 0,
        "id": "b956faa0"
      },
      "source": [
        "## first I select variables\n",
        "pg <- select(penguins_clean, individual_id, island, body_mass_g)\n",
        "\n",
        "## then I filter to only Dream island\n",
        "pg <- filter(pg, island == \"Dream\")\n",
        "\n",
        "## then I convert body_mass_g to kg\n",
        "pg <- mutate(pg, bodymass_kg = body_mass_g/1000)\n",
        "\n",
        "## rename individual id to simply id\n",
        "pg <- rename(pg, id = individual_id)\n"
      ],
      "execution_count": null,
      "outputs": []
    },
    {
      "cell_type": "markdown",
      "metadata": {
        "id": "38b886b9"
      },
      "source": [
        "\n",
        "\n",
        "\n",
        "\n",
        "Now this works but the problem is: we have to write a lot of code that repeats itself!"
      ]
    },
    {
      "cell_type": "code",
      "metadata": {
        "lines_to_next_cell": 0,
        "id": "59e751a2"
      },
      "source": [
        "pg"
      ],
      "execution_count": null,
      "outputs": []
    },
    {
      "cell_type": "markdown",
      "metadata": {
        "id": "13971caf"
      },
      "source": [
        "\n",
        "\n",
        "Another alternative is to *nest all the functions*:"
      ]
    },
    {
      "cell_type": "code",
      "metadata": {
        "lines_to_next_cell": 0,
        "id": "f57c9e8f"
      },
      "source": [
        "rename(mutate(filter(select(penguins_clean, individual_id, island, body_mass_g), island == \"Dream\"), bodymass_kg = body_mass_g/1000), id = individual_id)\n"
      ],
      "execution_count": null,
      "outputs": []
    },
    {
      "cell_type": "markdown",
      "metadata": {
        "id": "MJb-XTI5nN2-"
      },
      "source": [
        "But that's extremely tough to read and understand!"
      ]
    },
    {
      "cell_type": "markdown",
      "metadata": {
        "id": "942bcc61"
      },
      "source": [
        "\n",
        "*The piping style*:\n",
        "\n",
        "Read from top to bottom and from left to right and the `%>%` as \"and then\".\n",
        "\n",
        "> Data first, data once"
      ]
    },
    {
      "cell_type": "code",
      "metadata": {
        "lines_to_next_cell": 0,
        "id": "caa8701c"
      },
      "source": [
        "penguins_clean %>%\n",
        "  select(individual_id, island, body_mass_g) %>%\n",
        "  filter(island == \"Dream\") %>%\n",
        "  mutate(bodymass_kg = body_mass_g/1000) %>%\n",
        "  rename(id = individual_id)\n"
      ],
      "execution_count": null,
      "outputs": []
    },
    {
      "cell_type": "markdown",
      "metadata": {
        "id": "4MbpT4rTZT_q"
      },
      "source": [
        "#### `group_by()` again\n",
        "\n",
        "Grouping also become easier using pipes.\n",
        "\n",
        "Let's try again to calculate the average `culmen_length_mm` for each sex but this time with pipes.\n"
      ]
    },
    {
      "cell_type": "code",
      "metadata": {
        "id": "cKxo8jvuZZi0"
      },
      "source": [
        "penguins_clean %>%\n",
        "  group_by(sex) %>%\n",
        "  summarise(avg_culmen_length = mean(culmen_length_mm , na.rm = T))"
      ],
      "execution_count": null,
      "outputs": []
    },
    {
      "cell_type": "markdown",
      "metadata": {
        "id": "BVOpZHC3Ij_l"
      },
      "source": [
        "#### Small Note on the Pipe\n",
        "\n",
        "Since R Version 4.1.0 Base R also provides a pipe.\n",
        "\n",
        "It looks like this:\n",
        "\n",
        "$$|>$$\n",
        "\n",
        "While it shares many similarities with the `%>%` there are also some differences.\n",
        "\n",
        "It's beyond the scope of this workshop to go over it here but for the sake of simplicity we will stick with the `magrittr` pipe."
      ]
    },
    {
      "cell_type": "markdown",
      "metadata": {
        "id": "EKjl-4MAnXn_"
      },
      "source": [
        "# Exercises II\n",
        "\n",
        "The following includes a list of exercises that you can complete on your own.\n",
        "\n",
        "We are going to use the `palmerpenguins` dataset for the tasks ahead!\n",
        "\n",
        "\n",
        "\n",
        "![](https://github.com/allisonhorst/palmerpenguins/raw/master/man/figures/lter_penguins.png)\n",
        "\n",
        "![](https://github.com/allisonhorst/palmerpenguins/raw/master/man/figures/culmen_depth.png)"
      ]
    },
    {
      "cell_type": "markdown",
      "metadata": {
        "id": "rGzSMParhLNW"
      },
      "source": [
        "## Functions reference list\n",
        "\n",
        "For reference, here is a list of some useful  functions.\n",
        "\n",
        "If you have trouble with any of these functions, try reading the documentation with `?function_name`\n",
        "\n",
        "Remember: all these functions take the **data** first.\n",
        "\n",
        "* `filter()`\n",
        "\n",
        "  * Subset rows using column values\n",
        "\n",
        "* `mutate()`\n",
        "\n",
        "  * Create and modify delete columns\n",
        "\n",
        "* `rename()`\n",
        "\n",
        "  * Rename columns\n",
        "\n",
        "* `select()`\n",
        "\n",
        "  * Subset columns using their names and types\n",
        "\n",
        "* `summarise()`; `summarize()`\n",
        "\n",
        "  * Summarise each group to fewer rows\n",
        "\n",
        "* `group_by()`; `ungroup()`\n",
        "\n",
        "  * Group by one or more variables\n",
        "\n",
        "* `arrange()`\n",
        "\n",
        "  * Arrange rows by column values\n",
        "\n",
        "* `count()`; `tally()`\n",
        "\n",
        "  * Count observations by group\n",
        "\n",
        "* `distinct()`\n",
        "\n",
        "  * Subset distinct/unique rows\n",
        "\n",
        "* `pull()`\n",
        "\n",
        "  * Extract a single column\n",
        "\n",
        "* `ifelse()`\n",
        "\n",
        "  * useful for coding of binary variables\n",
        "\n",
        "* `case_when()`\n",
        "\n",
        "  * useful for recoding (when `ifelse` is not enough)\n",
        "\n",
        "* `separate()`\n",
        "\n",
        "  * separate two variables by some separator\n",
        "\n",
        "* `pivot_wider()`\n",
        "\n",
        "  * turn data into wide format\n",
        "\n",
        "* `pivot_longer()`\n",
        "\n",
        "  * turn data into long format\n"
      ]
    },
    {
      "cell_type": "markdown",
      "metadata": {
        "id": "xsQ4j9ZkfLsS"
      },
      "source": [
        "## Task 1\n",
        "\n",
        "Load the `tidyverse` and `janitor` packages.\n",
        "\n",
        "If `janitor` is not installed yet (it will say `janitor` not found) install it."
      ]
    },
    {
      "cell_type": "code",
      "metadata": {
        "id": "PUSRP4Alo4sq"
      },
      "source": [],
      "execution_count": null,
      "outputs": []
    },
    {
      "cell_type": "markdown",
      "metadata": {
        "id": "WD82xkkZdwt7"
      },
      "source": [
        "## Task 2\n",
        "\n",
        "Read in the already cleaned `palmerpenguins` dataset using\n",
        "\n",
        "* `read_csv`\n",
        "* the following url: https://raw.githubusercontent.com/allisonhorst/palmerpenguins/main/inst/extdata/penguins.csv\n",
        "\n",
        "Assign the resulting data to `penguins`.\n",
        "\n",
        "Then take a look a look at it using `glimpse`.\n",
        "\n",
        "What kind of variables can you recognize?"
      ]
    },
    {
      "cell_type": "code",
      "metadata": {
        "id": "LKRyx8Ksd-zP"
      },
      "source": [],
      "execution_count": null,
      "outputs": []
    },
    {
      "cell_type": "code",
      "metadata": {
        "id": "1mKVaNdDQChz"
      },
      "source": [],
      "execution_count": null,
      "outputs": []
    },
    {
      "cell_type": "markdown",
      "metadata": {
        "id": "c_kdn4B0dSsE"
      },
      "source": [
        "## Task 3\n",
        "\n",
        "Only keep the variables: `species`, `island` and `sex`."
      ]
    },
    {
      "cell_type": "code",
      "metadata": {
        "id": "6vqiMXDmH3SR"
      },
      "source": [],
      "execution_count": null,
      "outputs": []
    },
    {
      "cell_type": "markdown",
      "metadata": {
        "id": "Xs72GsH_Aqlu"
      },
      "source": [
        "Only keep variables 2 to 4."
      ]
    },
    {
      "cell_type": "code",
      "metadata": {
        "id": "g33Dh-xAAvgA"
      },
      "source": [],
      "execution_count": null,
      "outputs": []
    },
    {
      "cell_type": "markdown",
      "metadata": {
        "id": "xUxkQpArAwyV"
      },
      "source": [
        "Remove the column `year`."
      ]
    },
    {
      "cell_type": "code",
      "metadata": {
        "id": "SCnW8mjpA7Wd"
      },
      "source": [],
      "execution_count": null,
      "outputs": []
    },
    {
      "cell_type": "markdown",
      "metadata": {
        "id": "20BNw5w-A7x-"
      },
      "source": [
        "Only include columns that contain \"mm\" in the variable name."
      ]
    },
    {
      "cell_type": "code",
      "metadata": {
        "id": "goNoPRn4BJJ1"
      },
      "source": [],
      "execution_count": null,
      "outputs": []
    },
    {
      "cell_type": "markdown",
      "metadata": {
        "id": "6Cmk_J5dkZ5x"
      },
      "source": [
        "## Task 4\n",
        "\n",
        "Rename `island` to `location`."
      ]
    },
    {
      "cell_type": "code",
      "metadata": {
        "id": "9ak3l34hkd6y"
      },
      "source": [],
      "execution_count": null,
      "outputs": []
    },
    {
      "cell_type": "markdown",
      "metadata": {
        "id": "P_dSD-NOgJQt"
      },
      "source": [
        "## Task 5\n",
        "\n",
        "Filter the data so that `species` only includes `Chinstrap`."
      ]
    },
    {
      "cell_type": "code",
      "metadata": {
        "id": "IFcJMmOuIh2t"
      },
      "source": [],
      "execution_count": null,
      "outputs": []
    },
    {
      "cell_type": "markdown",
      "metadata": {
        "id": "t5sEFmqljdRg"
      },
      "source": [
        "Filter the data so that `species` only includes `Chinstrap` or `Gentoo`.\n",
        "\n",
        "\n"
      ]
    },
    {
      "cell_type": "code",
      "metadata": {
        "id": "jen42fbqjm7f"
      },
      "source": [],
      "execution_count": null,
      "outputs": []
    },
    {
      "cell_type": "markdown",
      "metadata": {
        "id": "keuew_VHjntD"
      },
      "source": [
        "Filter the data so it includes only penguins that are `male` *and* of the species `Adelie`."
      ]
    },
    {
      "cell_type": "code",
      "metadata": {
        "id": "XpXNo3Pej6TA"
      },
      "source": [],
      "execution_count": null,
      "outputs": []
    },
    {
      "cell_type": "markdown",
      "metadata": {
        "id": "dyejLU_ko5GR"
      },
      "source": [
        "## Task 6\n",
        "\n",
        "Create three new variables that calculates `bill_length_mm` and `bill_depth_mm` and `flipper_length_mm` from milimeter to centimeter.\n",
        "  \n",
        "Tip: divide the length value by 10.\n"
      ]
    },
    {
      "cell_type": "code",
      "metadata": {
        "id": "iRr-df5wI4fq"
      },
      "source": [],
      "execution_count": null,
      "outputs": []
    },
    {
      "cell_type": "markdown",
      "metadata": {
        "id": "DD3EQX33Pmqg"
      },
      "source": [
        "Create a new variable called `bill_depth_cat` which has two values:\n",
        "\n",
        "* Everything above a bill depth of 18mm and 18mm itself is \"high\"\n",
        "* Everything below a bill depth of 18mm is \"low\""
      ]
    },
    {
      "cell_type": "code",
      "metadata": {
        "id": "imFVdFmTJncm"
      },
      "source": [],
      "execution_count": null,
      "outputs": []
    },
    {
      "cell_type": "markdown",
      "metadata": {
        "id": "TVHxG2IqQvxF"
      },
      "source": [
        "Create a new variable called `species_short`.\n",
        "\n",
        "* `Adelie` should become `A`\n",
        "* `Chinstrap` should become `C`\n",
        "* `Gentoo` should become `G`"
      ]
    },
    {
      "cell_type": "code",
      "metadata": {
        "id": "fm-kSMIwKEI0"
      },
      "source": [],
      "execution_count": null,
      "outputs": []
    },
    {
      "cell_type": "markdown",
      "metadata": {
        "id": "99_BJtkZo7Lg"
      },
      "source": [
        "## Task 7\n",
        "\n",
        "Calculate the average `body_mass_g` per `island`.\n",
        "\n"
      ]
    },
    {
      "cell_type": "code",
      "metadata": {
        "id": "EdG94ovao8Y6"
      },
      "source": [],
      "execution_count": null,
      "outputs": []
    },
    {
      "cell_type": "markdown",
      "metadata": {
        "id": "VnoU7FuZlMCp"
      },
      "source": [
        "If you haven't done so already, try using the `%>%` operator to do this."
      ]
    },
    {
      "cell_type": "code",
      "metadata": {
        "id": "WKiQUfy1lQex"
      },
      "source": [],
      "execution_count": null,
      "outputs": []
    },
    {
      "cell_type": "markdown",
      "metadata": {
        "id": "oSm-AStBkwQm"
      },
      "source": [
        "## Task 8\n",
        "\n",
        "Use the pipe operator (`%>%`) to do all the operations below.\n",
        "\n",
        "\n",
        "\n",
        "1. Filter the `penguins` data so that it only includes `Chinstrap` or `Adelie`.\n",
        "2. Rename `sex` to `observed_sex`\n",
        "3. Only keep the variables `species`, `observed_sex`, `bill_length_mm` and `bill_depth_mm`\n",
        "4. Calculate the ratio between `bill_length_mm` and `bill_depth_mm`\n",
        "5. Sort the data by the highest ratio\n",
        "\n",
        "Try to create the pipe step by step and execute code as you go to see if it works.\n",
        "\n",
        "Once you are done, assign the data to `new_penguins`.\n"
      ]
    },
    {
      "cell_type": "code",
      "metadata": {
        "id": "BdIIdH7UmH15"
      },
      "source": [],
      "execution_count": null,
      "outputs": []
    },
    {
      "cell_type": "markdown",
      "metadata": {
        "id": "0KaXi2pVmIhA"
      },
      "source": [
        "Calculate the average ratio by `species` and `sex`, again using pipes."
      ]
    },
    {
      "cell_type": "code",
      "metadata": {
        "id": "T5Crc7cWmglO"
      },
      "source": [],
      "execution_count": null,
      "outputs": []
    },
    {
      "cell_type": "markdown",
      "metadata": {
        "id": "OtlIgudJBuDV"
      },
      "source": [
        "## Task 9"
      ]
    },
    {
      "cell_type": "markdown",
      "metadata": {
        "id": "uSjyewRlBx-d"
      },
      "source": [
        "Count the number of penguins by island and species."
      ]
    },
    {
      "cell_type": "code",
      "metadata": {
        "id": "6KtvbYstBw2S"
      },
      "source": [],
      "execution_count": null,
      "outputs": []
    },
    {
      "cell_type": "markdown",
      "metadata": {
        "id": "M331vffTB3eH"
      },
      "source": [
        "## Task 10\n",
        "\n",
        "Below is a dataset that needs some cleaning.\n",
        "\n",
        "Use the skills that you have learned so far to turn the data into a tidy dataset."
      ]
    },
    {
      "cell_type": "code",
      "metadata": {
        "id": "i44CF-cAB7Ku"
      },
      "source": [
        "animal_friends <- tibble(\n",
        "  Names = c(\"Francis\", \"Catniss\", \"Theodor\", \"Eugenia\"),\n",
        "  TheAnimals = c(\"Dog\", \"Cat\", \"Hamster\", \"Rabbit\"),\n",
        "  Sex = c(\"m\", \"f\", \"m\", \"f\"),\n",
        "  a_opterr = c(\"me\", \"me\", \"me\", \"me\"),\n",
        "  `Age/Adopted/Condition` = c(\"8/2020/Very Good\", \"13/2019/Wild\", \"1/2021/Fair\", \"2/2020/Good\")\n",
        ")"
      ],
      "execution_count": null,
      "outputs": []
    },
    {
      "cell_type": "markdown",
      "metadata": {
        "id": "-6Pgv5_JZLLp"
      },
      "source": [
        "Start here:"
      ]
    },
    {
      "cell_type": "code",
      "metadata": {
        "id": "Ih11dfMVZKOL"
      },
      "source": [],
      "execution_count": null,
      "outputs": []
    },
    {
      "cell_type": "code",
      "metadata": {
        "id": "FpznkC3Jq8Ro"
      },
      "source": [],
      "execution_count": null,
      "outputs": []
    },
    {
      "cell_type": "markdown",
      "metadata": {
        "id": "Z5CA9GVsGalF"
      },
      "source": [
        "If you are done, turn the final data into long format."
      ]
    },
    {
      "cell_type": "code",
      "metadata": {
        "id": "RXTIX97xFKIQ"
      },
      "source": [],
      "execution_count": null,
      "outputs": []
    }
  ]
}