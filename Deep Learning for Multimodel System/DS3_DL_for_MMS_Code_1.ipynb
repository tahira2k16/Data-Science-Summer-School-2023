{
  "nbformat": 4,
  "nbformat_minor": 0,
  "metadata": {
    "colab": {
      "private_outputs": true,
      "provenance": []
    },
    "kernelspec": {
      "name": "python3",
      "display_name": "Python 3"
    },
    "language_info": {
      "name": "python"
    }
  },
  "cells": [
    {
      "cell_type": "markdown",
      "source": [
        "# Using Keras for Model Fusion\n",
        "* Chris Arnold (Cardiff University)\n",
        "* DS3 Data Science Summer School\n",
        "* August 25th, 2023\n"
      ],
      "metadata": {
        "id": "Cw_u9HThEcdF"
      }
    },
    {
      "cell_type": "code",
      "source": [
        "# Housekeeping\n",
        "import tensorflow as tf\n",
        "from tensorflow import keras\n",
        "from tensorflow.keras import layers"
      ],
      "metadata": {
        "id": "kR5JAhdpFuP8"
      },
      "execution_count": null,
      "outputs": []
    },
    {
      "cell_type": "markdown",
      "source": [
        "## Understanding Functional and Sequential Models in Keras"
      ],
      "metadata": {
        "id": "X7-yodprMroj"
      }
    },
    {
      "cell_type": "code",
      "execution_count": null,
      "metadata": {
        "id": "7BdIoygZC_c7"
      },
      "outputs": [],
      "source": [
        "# Quick recap: a Sequential Neural Regression Model\n",
        "model_seq = keras.Sequential()\n",
        "model_seq.add(layers.Dense(64, input_shape=(10,), activation=\"relu\"))\n",
        "model_seq.add(layers.Dense(32, activation=\"relu\"))\n",
        "model_seq.add(layers.Dense(1, activation=\"linear\"))\n",
        "\n",
        "# Take a look at the model\n",
        "model_seq.summary()"
      ]
    },
    {
      "cell_type": "code",
      "source": [
        "# A Functional Neural Regression Model\n",
        "# Input\n",
        "inputs = keras.Input(shape=(10,))\n",
        "\n",
        "# Model\n",
        "x = layers.Dense(64, activation=\"relu\")(inputs)\n",
        "x = layers.Dense(32, activation=\"relu\")(x)\n",
        "x = layers.Dense(1, activation=\"linear\")(x)\n",
        "\n",
        "# Create\n",
        "model_fun = keras.Model(inputs, x)\n",
        "\n",
        "model_fun.summary()"
      ],
      "metadata": {
        "id": "CGpkHfo8G9Lh"
      },
      "execution_count": null,
      "outputs": []
    },
    {
      "cell_type": "code",
      "source": [
        "model_seq.summary()"
      ],
      "metadata": {
        "id": "gLMQM5T_MM3K"
      },
      "execution_count": null,
      "outputs": []
    },
    {
      "cell_type": "markdown",
      "source": [
        "## A Fusion Model in Keras"
      ],
      "metadata": {
        "id": "pHvD0rhwMw2p"
      }
    },
    {
      "cell_type": "code",
      "source": [
        "# Generate two inputs\n",
        "inputA = keras.Input(shape=(32,))\n",
        "inputB = keras.Input(shape=(128,))\n",
        "\n",
        "# First branch operates on the first input\n",
        "x = layers.Dense(8, activation=\"relu\")(inputA)\n",
        "x = layers.Dense(4, activation=\"relu\")(x)\n",
        "x = keras.Model(inputs=inputA, outputs=x)\n",
        "\n",
        "# Second branch opreates on the second input\n",
        "y = layers.Dense(64, activation=\"relu\")(inputB)\n",
        "y = layers.Dense(32, activation=\"relu\")(y)\n",
        "y = layers.Dense(4, activation=\"relu\")(y)\n",
        "y = keras.Model(inputs=inputB, outputs=y)\n",
        "\n",
        "# Combine the output of the two branches with a concatenation\n",
        "combined = layers.concatenate([x.output, y.output])\n",
        "\n",
        "# Fully connected layer and regression prediction on the combined outputs\n",
        "z = layers.Dense(2, activation=\"relu\")(combined)\n",
        "z = layers.Dense(1, activation=\"linear\")(z)\n",
        "\n",
        "# The model accept the inputs of the two branches and\n",
        "# then returns the prediction\n",
        "model_fusion = keras.Model(inputs=[x.input, y.input], outputs=z)"
      ],
      "metadata": {
        "id": "leQABQXKM1vq"
      },
      "execution_count": null,
      "outputs": []
    },
    {
      "cell_type": "code",
      "source": [
        "model_fusion.summary()"
      ],
      "metadata": {
        "id": "DUc9sf_1S5Xk"
      },
      "execution_count": null,
      "outputs": []
    },
    {
      "cell_type": "markdown",
      "source": [
        "Sources:\n",
        "* https://keras.io/guides/functional_api/\n",
        "* https://pyimagesearch.com/2019/02/04/keras-multiple-inputs-and-mixed-data/"
      ],
      "metadata": {
        "id": "U6DfvOBoExbP"
      }
    },
    {
      "cell_type": "code",
      "source": [],
      "metadata": {
        "id": "oNqm_CMcMMEa"
      },
      "execution_count": null,
      "outputs": []
    }
  ]
}