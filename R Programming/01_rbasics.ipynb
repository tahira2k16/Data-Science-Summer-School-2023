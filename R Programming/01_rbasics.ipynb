{
  "nbformat": 4,
  "nbformat_minor": 0,
  "metadata": {
    "colab": {
      "provenance": [],
      "collapsed_sections": [
        "fDohQuMqWnC-",
        "3hwfFLO5iUyR",
        "5cAxOXBv8KZ6",
        "faswqpLGsP2v",
        "A9r-MFKwsSsh"
      ],
      "toc_visible": true
    },
    "kernelspec": {
      "name": "ir",
      "display_name": "R"
    },
    "language_info": {
      "name": "R"
    }
  },
  "cells": [
    {
      "cell_type": "markdown",
      "metadata": {
        "id": "vGnW7giO9AeD"
      },
      "source": [
        "# Welcome\n",
        "\n",
        "![](https://ds3.ai/2023/assets/r.png)\n",
        "\n",
        "**Welcome to the Intro to R Programming Workshop!**\n",
        "\n",
        "This is Part I. For a link to Part II click [here](https://colab.research.google.com/drive/14CRElnKewnp5MnlxhqVu6OOcIXd-Bkaj?usp=sharing).\n",
        "\n",
        "Link to Slides: https://favstats.github.io/ds3_r_intro/\n",
        "\n",
        "**Workshop description:**\n",
        "\n",
        "This workshop focuses on the very beginnings of a great journey ahead of you: learning how to use and be comfortable with the statistical programming language R. Together we will explore the basics, from the working environment itself, creating functions for simplifying your tasks, to data management with the tidyverse package. The overarching goal of the workshop is for you to receive the necessary skill set that will enable you to soon embark on your own data science adventures. That being said, the most important aspect of the workshop will be to have fun along the way so that your journey can begin as smoothly and easily as possible.\n",
        "\n",
        "\n",
        "\n",
        "For the purposes of this workshop we are going to use **Google Colab**.\n",
        "\n"
      ]
    },
    {
      "cell_type": "markdown",
      "metadata": {
        "id": "cPQtVumWBKFq"
      },
      "source": [
        "## Google Colab\n",
        "\n",
        "Google Colab is a free coding environment (*a Jupyter notebook*) that runs entirely in the cloud.\n",
        "\n",
        "Think: Google Docs but for *code*.\n",
        "\n",
        "$\\color{blue}{\\text{Upsides}}$ of using Google Colab\n",
        "\n",
        "+ No need to set up R and RStudio on your own computer.\n",
        "+ We can dive in right in now\n",
        "\n",
        "\n",
        "$\\color{red}{\\text{Downsides}}$\n",
        "\n",
        "+ You will have to set up R and RStudio on your own computer (when you want to use R on your own)\n",
        "\n",
        "\n",
        "\n",
        "\n",
        "<br>\n",
        "\n",
        "**For future reference (you won't need this for the workshop)**\n",
        "\n",
        "\n",
        "+ Download R from here: https://cran.r-project.org/\n",
        "+ Download RStudio from here: https://www.rstudio.com/products/rstudio/download/\n",
        "\n"
      ]
    },
    {
      "cell_type": "markdown",
      "metadata": {
        "id": "QSUzY1ohDW8o"
      },
      "source": [
        "# R as Calculator\n",
        "\n",
        "At its core R is just a fancy *calculator*\n",
        "\n",
        "![](https://cdn.iconscout.com/icon/free/png-256/math-1963506-1657007.png)\n",
        "\n",
        "R can do:\n",
        "\n",
        "* `+` addition\n",
        "* `-` subtraction\n",
        "* `*` multiplication\n",
        "* `/` division\n",
        "* `^` exponentiate\n",
        "\n",
        "\n",
        "\n",
        "\n",
        "\n",
        "\n"
      ]
    },
    {
      "cell_type": "markdown",
      "metadata": {
        "id": "P_Yj9exUDj_G"
      },
      "source": [
        "## Try it out\n"
      ]
    },
    {
      "cell_type": "code",
      "metadata": {
        "id": "9kzvPG3QC5hK"
      },
      "source": [
        "15 + 5"
      ],
      "execution_count": null,
      "outputs": []
    },
    {
      "cell_type": "markdown",
      "metadata": {
        "id": "vJBo_K9YDpkb"
      },
      "source": [
        "## Mix operators"
      ]
    },
    {
      "cell_type": "code",
      "metadata": {
        "id": "aUKF1AlhDsdX"
      },
      "source": [
        "(15 + 5) / (2 * 5)"
      ],
      "execution_count": null,
      "outputs": []
    },
    {
      "cell_type": "markdown",
      "metadata": {
        "id": "hLaboqO21YbF"
      },
      "source": [
        "> Note: when put a hashtag in front of our code then that is a **comment**.\n",
        "\n",
        "Comments are just a useful way for us to add some text to our code, for example to explain what we are doing."
      ]
    },
    {
      "cell_type": "code",
      "metadata": {
        "id": "rC6eWPpW1i-H"
      },
      "source": [
        "## I will be ignored\n",
        "2*2*2\n",
        "## Me too"
      ],
      "execution_count": null,
      "outputs": []
    },
    {
      "cell_type": "markdown",
      "metadata": {
        "id": "JHnlL8KkFWiK"
      },
      "source": [
        "## Animal Lifespan Data\n",
        "\n",
        "Say you want to know how old an animal is in human years.\n",
        "\n",
        "\n",
        "\n",
        "We can use the following simple formula to determine that:\n",
        "\n",
        "$\\frac{\\text{Maximum lifespan human}}{\\text{Maximum lifespan non-human animal}} =  \\text{animal to human years conversion ratio}$\n",
        "\n",
        "*Note: This is just a **very rough** way to determine the conversion ratio. It is much more complicated in [reality](https://www.akc.org/expert-advice/health/how-to-calculate-dog-years-to-human-years/).*\n",
        "\n",
        "\n",
        "Why are we using longevity instead of.. let's say *average life expectancy*?\n",
        "\n",
        "According to the [Animal Ageing and Longevity Database](https://www.johnsnowlabs.com/marketplace/the-animal-aging-and-longevity-database/) (John Snow Labs):\n",
        "\n",
        "> \"[...] [M]aximum longevity (also called maximum lifespan) [...] is the most widely used parameter for comparing the rate of aging between species.\"\n",
        "\n",
        "\n"
      ]
    },
    {
      "cell_type": "markdown",
      "metadata": {
        "id": "qyNkvtwm2HpS"
      },
      "source": [
        "\n",
        "First some important data points.\n",
        "\n",
        "\n",
        "**Human Longevity**\n",
        "\n",
        "The longest human to ever live is a woman named: [Jeanne Calment](https://en.wikipedia.org/wiki/Jeanne_Calment). The french woman reached the age of **122 (!)**. She was born in 1875 and lived until 1997.\n",
        "\n",
        "**Animal Longevity Stats**\n",
        "\n",
        " Here is a table of maximum longevity for various animals:\n",
        "\n",
        "| Animal | Maximum Longevity (in years)|\n",
        "| --- | --- |\n",
        "| Human | 122.5 |\n",
        "| Domestic dog | 24.0 |\n",
        "| Domestic cat | 30.0 |\n",
        "| American alligator | 77.0 |\n",
        "| Golden hamster | 3.9 |\n",
        "| King penguin | 26.0 |\n",
        "| Lion|\t27.0 |\n",
        "| Greenland shark\t | 392.0 |\n",
        "| Galapagos tortoise | 177.0 |\n",
        "| African bush elephant\t | 65.0 |\n",
        "| California sea lion\t| 35.7\t |\n",
        "| Fruit fly\t\t| 0.3\t |\n",
        "| House mouse\t\t| 4.0\t |\n",
        "| Giraffe\t\t| 39.5\t |\n",
        "| Wild boar\t\t| 27.0\t|\n",
        "\n",
        "\n",
        "\n",
        "*Source: [Animal Ageing and Longevity Database](https://www.johnsnowlabs.com/marketplace/the-animal-aging-and-longevity-database/)*.\n"
      ]
    },
    {
      "cell_type": "markdown",
      "metadata": {
        "id": "XQecBq4BEbIe"
      },
      "source": [
        "### Dog to Human years\n",
        "\n",
        "Calculating the animal to human conversion ratio"
      ]
    },
    {
      "cell_type": "code",
      "metadata": {
        "id": "2pC2P4GCTzSS"
      },
      "source": [
        "122.5/24"
      ],
      "execution_count": null,
      "outputs": []
    },
    {
      "cell_type": "markdown",
      "metadata": {
        "id": "AhsJ-qz33QdU"
      },
      "source": [
        "\n",
        "So for every year a human ages, a dog \"ages\" 5.1 human years.\n",
        "\n",
        "\n"
      ]
    },
    {
      "cell_type": "markdown",
      "metadata": {
        "id": "efpl0PHrUEAf"
      },
      "source": [
        "\n",
        "How old is a 15 year old dog in human years?"
      ]
    },
    {
      "cell_type": "code",
      "metadata": {
        "id": "aHz5X7TnaydH"
      },
      "source": [
        "5.104167*15"
      ],
      "execution_count": null,
      "outputs": []
    },
    {
      "cell_type": "markdown",
      "metadata": {
        "id": "Z0F-vu4lUnKN"
      },
      "source": [
        "# R Objects\n",
        "\n",
        "Now it can be quite tedious to juggle all those numbers around.\n",
        "\n",
        "Especially if we want to keep reusing numbers we calculated before.\n",
        "\n",
        "Here to simplify that process are: **R objects**.\n",
        "\n",
        "You can think of R objects as *saving information*, for example simple numbers or just plain text.\n",
        "\n",
        "By creating an object we *save* the information to our working environment and we can recall it whenever we want by just running the name of the object.\n",
        "\n",
        "We create R objects by using the assignment operator:\n",
        "\n",
        "\n",
        "> **<-**\n",
        "\n",
        "or\n",
        "\n",
        "> **=**\n",
        "\n",
        "[tidyverse style guide](https://style.tidyverse.org/) recommends to use **<-** for assignment so that is what we are going to use here.\n",
        "\n",
        "Here is an example using the small exercise from earlier:\n",
        "\n",
        "1. First, we assign the human max lifespan to a variable called `human_lifespan`. The we assign the maximum lifespan of a dog to `dog_lifespan`.\n"
      ]
    },
    {
      "cell_type": "code",
      "metadata": {
        "id": "BO0X81eKU4De"
      },
      "source": [
        "human_lifespan  <- 122.5\n",
        "dog_lifespan <- 24"
      ],
      "execution_count": null,
      "outputs": []
    },
    {
      "cell_type": "markdown",
      "metadata": {
        "id": "f9XzHs6wVMS8"
      },
      "source": [
        "If we now run the respective objects we retrieve the saved numbers.\n",
        "\n"
      ]
    },
    {
      "cell_type": "code",
      "metadata": {
        "id": "o9BFbuQFVwlp"
      },
      "source": [
        "human_lifespan"
      ],
      "execution_count": null,
      "outputs": []
    },
    {
      "cell_type": "code",
      "metadata": {
        "id": "xnUmdPiPVzCX"
      },
      "source": [
        "dog_lifespan"
      ],
      "execution_count": null,
      "outputs": []
    },
    {
      "cell_type": "markdown",
      "metadata": {
        "id": "VI55pnH_V3zw"
      },
      "source": [
        "Now we can perform the same calculation as before but this time using objects!\n",
        "\n"
      ]
    },
    {
      "cell_type": "code",
      "metadata": {
        "id": "igt02PIIV40_"
      },
      "source": [
        "dogs_to_human <- human_lifespan / dog_lifespan"
      ],
      "execution_count": null,
      "outputs": []
    },
    {
      "cell_type": "markdown",
      "metadata": {
        "id": "0T7VnpJEWKCE"
      },
      "source": [
        "The variable `dogs_to_human` now holds the dog to human years conversion ratio."
      ]
    },
    {
      "cell_type": "code",
      "metadata": {
        "id": "Lof7r_xiWEiR"
      },
      "source": [
        "dogs_to_human"
      ],
      "execution_count": null,
      "outputs": []
    },
    {
      "cell_type": "markdown",
      "metadata": {
        "id": "ipiekIr9Wh4j"
      },
      "source": [
        "*Now* we ask again: how old is a 15 year old dog in human years?"
      ]
    },
    {
      "cell_type": "code",
      "metadata": {
        "id": "8ep7sEvgWI3i"
      },
      "source": [
        "dogs_to_human*15"
      ],
      "execution_count": null,
      "outputs": []
    },
    {
      "cell_type": "markdown",
      "metadata": {
        "id": "nQwawgtuD6jI"
      },
      "source": [
        "Same result as earlier!\n",
        "\n"
      ]
    },
    {
      "cell_type": "markdown",
      "metadata": {
        "id": "Q1EucjhaD9Vh"
      },
      "source": [
        "\n",
        "> Note that object names could be anything here! I chose to go with short but self-explanatory names but I could have chosen to just name them **`x`**, **`y`** or **`z`**."
      ]
    },
    {
      "cell_type": "markdown",
      "metadata": {
        "id": "M0ftpT9hEnUJ"
      },
      "source": [
        "### Cat to Human years"
      ]
    },
    {
      "cell_type": "markdown",
      "source": [
        "<img src=\"https://pbs.twimg.com/media/FWvCwP_XoAIY-S6?format=jpg&name=large\" width=\"40%\">\n",
        "\n",
        "1.  Calculate cats to human years conversion ratio **using objects**\n",
        "2.  How old is a 15 year old cat in \"human years\"?"
      ],
      "metadata": {
        "id": "7q_igb1eqnCT"
      }
    },
    {
      "cell_type": "code",
      "metadata": {
        "id": "TBpm6Du-UmS3"
      },
      "source": [],
      "execution_count": null,
      "outputs": []
    },
    {
      "cell_type": "code",
      "metadata": {
        "id": "0GErx00RUmkR"
      },
      "source": [],
      "execution_count": null,
      "outputs": []
    },
    {
      "cell_type": "markdown",
      "metadata": {
        "id": "fDohQuMqWnC-"
      },
      "source": [
        "\n",
        "\n",
        "## A note on naming stuff\n",
        "\n",
        "\n",
        "> $$\\color{blue}{\\text{\"There are only two hard things in Computer Science:}}$$\n",
        "> $$\\color{blue}{\\text{cache invalidation and naming things. ~ Phil Karlton\"}}$$\n",
        "\n",
        "![](https://pbs.twimg.com/media/ELuERYrU0AAI_7b?format=jpg&name=4096x4096)\n",
        "\n",
        "\n",
        "Artist: [Allison Horst](https://github.com/allisonhorst/stats-illustrations)\n",
        "\n",
        "\n",
        "There are many approaches to name things in programming.\n",
        "\n",
        "In this case we will be using a technique called *lower snake case*, which is also part of the [tidyverse style guide](https://style.tidyverse.org/syntax.html).  \n",
        "\n",
        "Use underscores (`_`) to separate lower case letter words within a name.\n",
        "\n",
        "Example:\n",
        "\n",
        "```markdown\n",
        "# Recommended\n",
        "animal_lifespan\n",
        "\n",
        "# Not recommended\n",
        "AnimalLifespan\n",
        "animal.lifespan\n",
        "```\n",
        "\n",
        "\n"
      ]
    },
    {
      "cell_type": "markdown",
      "metadata": {
        "id": "36d4UdDFW5JY"
      },
      "source": [
        "\n",
        "# Logical Operators\n",
        "\n",
        "But wait there are more operators! R knows a ton of them.\n",
        "\n",
        "Logical operators are used for logical tests which can result in either:\n",
        "\n",
        "$\\text{TRUE}$ or $\\text{FALSE}$\n",
        "\n",
        "*(sometimes this is also called a boolean variable)*\n",
        "\n",
        "Let's first create some more objects to try some logical tests!"
      ]
    },
    {
      "cell_type": "code",
      "metadata": {
        "id": "AgXGzzcMYtls"
      },
      "source": [
        "lion_lifespan <- 27\n",
        "mouse_lifespan <- 4\n",
        "fly_lifespan <- 0.3\n",
        "boar_lifespan <- 27\n",
        "alligator_lifespan <- 77\n",
        "greenland_shark_lifespan <- 392\n",
        "galapagos_tortoise_lifespan <- 177"
      ],
      "execution_count": null,
      "outputs": []
    },
    {
      "cell_type": "markdown",
      "metadata": {
        "id": "UF-1XJ1QX5Wd"
      },
      "source": [
        "\n",
        "## Equal\n",
        "\n",
        "**`==`** asks whether two values are the same or equal"
      ]
    },
    {
      "cell_type": "code",
      "metadata": {
        "id": "FLQ2-lHbYE6D"
      },
      "source": [
        "lion_lifespan == boar_lifespan"
      ],
      "execution_count": null,
      "outputs": []
    },
    {
      "cell_type": "markdown",
      "metadata": {
        "id": "2664x_YeZT0e"
      },
      "source": [
        "The code above tests the following statement:\n",
        ">  The lifespan of a lion equals the lifespan of a boar.\n",
        "\n",
        "Since both maximum lifespans are `27` this is of course a **`TRUE`** statement.\n",
        "\n",
        "## Not Equal\n",
        "\n",
        "**`!=`** asks whether two values are the not the same or unequal\n",
        "\n"
      ]
    },
    {
      "cell_type": "code",
      "metadata": {
        "id": "EBBUrpELZdGy"
      },
      "source": [
        "lion_lifespan != boar_lifespan"
      ],
      "execution_count": null,
      "outputs": []
    },
    {
      "cell_type": "markdown",
      "metadata": {
        "id": "VhfD7VjHZicR"
      },
      "source": [
        "The code above tests the reverse of the above statement:\n",
        ">  The lifespan of a lion **does not equal** the lifespan of a boar.\n",
        "\n",
        "Since both maximum lifespans are `27` this is of course a **`FALSE`** statement.\n",
        "\n",
        "## Greater or Smaller\n",
        "\n",
        "We can also test whether certain values are **greater or smaller** than others:\n",
        "\n",
        "`>` greater than\n",
        "\n"
      ]
    },
    {
      "cell_type": "code",
      "metadata": {
        "id": "49JJSFBRaMrX"
      },
      "source": [
        "human_lifespan > fly_lifespan"
      ],
      "execution_count": null,
      "outputs": []
    },
    {
      "cell_type": "markdown",
      "metadata": {
        "id": "n8CFSisiadA8"
      },
      "source": [
        "The code above tests the statement:\n",
        ">  The lifespan of a human is greater than the lifespan of a fly.\n",
        "\n",
        "Since the maximum human lifespan is `122.5` and a fly does not live longer than `0.3` years this is of course a **`TRUE`** statement."
      ]
    },
    {
      "cell_type": "code",
      "metadata": {
        "id": "3biubJ-bbI5g"
      },
      "source": [
        "alligator_lifespan < mouse_lifespan"
      ],
      "execution_count": null,
      "outputs": []
    },
    {
      "cell_type": "markdown",
      "metadata": {
        "id": "Dxe0vptYbQmd"
      },
      "source": [
        "The code above tests the statement:\n",
        ">  The lifespan of an alligator is smaller than the lifespan of a mouse.\n",
        "\n",
        "Since the maximum alligator lifespan is `77` and a mouse lives for `4` years maximum, this is of course a **`FALSE`** statement.\n",
        "\n",
        "Also note the following options:\n",
        "\n",
        "*   `>=` greater or equals\n",
        "*   `<=` smaller or equals\n"
      ]
    },
    {
      "cell_type": "code",
      "metadata": {
        "id": "MSl0jDDLbpYL"
      },
      "source": [
        "20 >= 20"
      ],
      "execution_count": null,
      "outputs": []
    },
    {
      "cell_type": "markdown",
      "metadata": {
        "id": "zOOiDHliRGZ9"
      },
      "source": [
        "# Combine Logical Operators\n",
        "\n",
        "We can also combine logical tests by testing multiple statements at the same time:\n",
        "\n",
        "* `&` stands for \"and\" (unsurprisingly)\n",
        "* `|` stands for \"or\"\n",
        "\n",
        "For example both `alligator_lifespan` and `fly_lifespan` have to be greater than `mouse_lifespan` for the code below to evaluate as `TRUE`.\n",
        "\n",
        "\n"
      ]
    },
    {
      "cell_type": "code",
      "metadata": {
        "id": "KshPxE_JRN-L"
      },
      "source": [
        "alligator_lifespan > mouse_lifespan & fly_lifespan > mouse_lifespan"
      ],
      "execution_count": null,
      "outputs": []
    },
    {
      "cell_type": "markdown",
      "metadata": {
        "id": "Q-6yI23fRTp3"
      },
      "source": [
        "If we say `|` (= or) instead, it means either statement evaluation to `TRUE` is enough!\n",
        "\n",
        "\n"
      ]
    },
    {
      "cell_type": "code",
      "metadata": {
        "id": "cae001cGRa31"
      },
      "source": [
        "alligator_lifespan > mouse_lifespan | fly_lifespan > mouse_lifespan"
      ],
      "execution_count": null,
      "outputs": []
    },
    {
      "cell_type": "markdown",
      "metadata": {
        "id": "_N5-N7tPbr4r"
      },
      "source": [
        "\n",
        "# Vectors\n",
        "\n",
        "\n",
        "\n",
        "Now we learned about objects. But so far they have only ever held a single numeric value.\n",
        "\n",
        "R is of course much more powerful than that and objects can hold any number and types of data.\n",
        "\n",
        "In fact it is good to remember that:\n",
        "\n",
        "\n",
        "> $\\color{blue}{\\text{\"Everything that exists in R is an object.\"}}$\n",
        "~John M. Chambers\n",
        "\n",
        "Now we will take a look at **vectors**, or objects that include more than one value.\n",
        "\n",
        "\n",
        "You can simply imagine vectors as a list of values. They can consist of numbers but also strings (or: text).\n",
        "\n",
        "In order to create a vector in R we make use of `c()` (which stands for concatenate)"
      ]
    },
    {
      "cell_type": "code",
      "metadata": {
        "id": "Os1hjMrq6GbD"
      },
      "source": [
        "c(1, 2, 3, 4)"
      ],
      "execution_count": null,
      "outputs": []
    },
    {
      "cell_type": "markdown",
      "metadata": {
        "id": "AUZfuTyE6Ih-"
      },
      "source": [
        "We can combine the lifespans we assigned into objects earlier:"
      ]
    },
    {
      "cell_type": "code",
      "metadata": {
        "id": "W2Jh3uNkbH8D"
      },
      "source": [
        "c(greenland_shark_lifespan, dog_lifespan,\n",
        "  galapagos_tortoise_lifespan,\n",
        "  mouse_lifespan, fly_lifespan,\n",
        "  lion_lifespan, boar_lifespan,\n",
        "  alligator_lifespan, human_lifespan)\n"
      ],
      "execution_count": null,
      "outputs": []
    },
    {
      "cell_type": "markdown",
      "metadata": {
        "id": "P1mTPHKbkCs7"
      },
      "source": [
        "We can also create a vector of strings by using quotes:\n",
        "\n"
      ]
    },
    {
      "cell_type": "code",
      "metadata": {
        "id": "a5dXhO3njxpf"
      },
      "source": [
        "c(\"greenland_shark\", \"dog\",\n",
        "  \"galapagos_tortoise\", \"mouse\",\n",
        "  \"fly\", \"lion\", \"boar\",\n",
        "  \"alligator\", \"human\")"
      ],
      "execution_count": null,
      "outputs": []
    },
    {
      "cell_type": "markdown",
      "metadata": {
        "id": "ZnoTrfP3kI1n"
      },
      "source": [
        "Of course we can also assign these vectors to objects.\n",
        "\n",
        "Let's say we have a vector `animal_lifespans` with different life spans of animals."
      ]
    },
    {
      "cell_type": "code",
      "metadata": {
        "id": "9vOk8S4TdIMO"
      },
      "source": [
        "animal_lifespans <- c(greenland_shark_lifespan, dog_lifespan,\n",
        "  galapagos_tortoise_lifespan,\n",
        "  mouse_lifespan, fly_lifespan,\n",
        "  lion_lifespan, boar_lifespan,\n",
        "  alligator_lifespan, human_lifespan)\n"
      ],
      "execution_count": null,
      "outputs": []
    },
    {
      "cell_type": "markdown",
      "metadata": {
        "id": "ExXkKfEukvde"
      },
      "source": [
        "Now if we wanted to get the different year conversation ratios we can simply divide the maximum human age number by the vector."
      ]
    },
    {
      "cell_type": "code",
      "metadata": {
        "id": "aG7rdXPhW4d-"
      },
      "source": [
        "human_lifespan/animal_lifespans"
      ],
      "execution_count": null,
      "outputs": []
    },
    {
      "cell_type": "markdown",
      "metadata": {
        "id": "utx6elOmkbnv"
      },
      "source": [
        "\n",
        "\n",
        "Notice how the operation is performed for each item separately and the result is yet another vector.\n",
        "\n"
      ]
    },
    {
      "cell_type": "code",
      "metadata": {
        "id": "7B8mtF13ddxM"
      },
      "source": [
        "animal_to_human_ratios <- human_lifespan/animal_lifespans"
      ],
      "execution_count": null,
      "outputs": []
    },
    {
      "cell_type": "markdown",
      "metadata": {
        "id": "bYk1Rb5Vk73u"
      },
      "source": [
        "We can also use logical operators with vectors:\n",
        "\n"
      ]
    },
    {
      "cell_type": "code",
      "metadata": {
        "id": "XcPlzKaWdkmO"
      },
      "source": [
        "animal_to_human_ratios < 1"
      ],
      "execution_count": null,
      "outputs": []
    },
    {
      "cell_type": "markdown",
      "metadata": {
        "id": "rPpPk0ttk_pQ"
      },
      "source": [
        "Again, notice how the operation is performed for each item separately and the result is yet another vector, this time consisting of `TRUE` and `FALSE`.\n",
        "\n",
        "\n",
        "\n",
        "\n",
        "\n"
      ]
    },
    {
      "cell_type": "markdown",
      "metadata": {
        "id": "eKUuHwGr84CK"
      },
      "source": [
        "## Small note on Variable Types\n",
        "\n",
        "There are four main types of variables:\n",
        "\n",
        "* **logical**: Boolean/binary, is either `TRUE` or `FALSE`\n"
      ]
    },
    {
      "cell_type": "code",
      "metadata": {
        "id": "HiD76mBaHgY4"
      },
      "source": [
        "class(TRUE)"
      ],
      "execution_count": null,
      "outputs": []
    },
    {
      "cell_type": "markdown",
      "metadata": {
        "id": "TAiuy86PHpwL"
      },
      "source": [
        "* **character (or string)**: simple text, including symbols and numbers `\"text\"`\n"
      ]
    },
    {
      "cell_type": "code",
      "metadata": {
        "id": "Ib5_HrEQHrR9"
      },
      "source": [
        "class(\"I am a character\")"
      ],
      "execution_count": null,
      "outputs": []
    },
    {
      "cell_type": "markdown",
      "metadata": {
        "id": "_JtAFydQH4DN"
      },
      "source": [
        "* **numeric**: Numbers. Mathmatical operators can be used here.\n",
        "\n"
      ]
    },
    {
      "cell_type": "code",
      "metadata": {
        "id": "cAiSYPSkIIgm"
      },
      "source": [
        "class(2020)"
      ],
      "execution_count": null,
      "outputs": []
    },
    {
      "cell_type": "markdown",
      "metadata": {
        "id": "0qX8TN8GHriN"
      },
      "source": [
        "\n",
        "\n",
        "* **factor**: characters or strings but ordered in some way\n"
      ]
    },
    {
      "cell_type": "code",
      "metadata": {
        "id": "T6pYw9DgH28W"
      },
      "source": [
        "class(as.factor(c(\"I\", \"am\", \"a\", \"factor\")))"
      ],
      "execution_count": null,
      "outputs": []
    },
    {
      "cell_type": "markdown",
      "metadata": {
        "id": "8nijGZ1kIIy-"
      },
      "source": [
        "Another important value to know is `NA`. It stands for \"Not Available\" and simply denotes a *missing value*.\n",
        "\n",
        "There also more like dates and datetimes but we won't focus on that now."
      ]
    },
    {
      "cell_type": "code",
      "metadata": {
        "id": "7OKnEs37ckFw"
      },
      "source": [
        "c(NA, 1, 2, NA)"
      ],
      "execution_count": null,
      "outputs": []
    },
    {
      "cell_type": "markdown",
      "metadata": {
        "id": "m2xwYBEpFEJj"
      },
      "source": [
        "## A logical operator for vectors: `%in%`\n",
        "\n",
        "An incredibly useful operator for vectors is **`%in%`**.\n",
        "\n",
        "The operator checks whether multiple elements occur somewhere in your vectors.\n",
        "\n",
        "This basic usage looks like this:\n",
        "\n",
        "$\\color{red}{\\text{vector1}}$ %in% $\\color{orange}{\\text{vector2}}$\n",
        "\n",
        "Let's first create a vector called `animals` which includes all the animals in the same\n"
      ]
    },
    {
      "cell_type": "code",
      "metadata": {
        "id": "bTf1m2r2iKH8"
      },
      "source": [
        "animals <- c(\"greenland_shark\", \"dog\",\n",
        "  \"galapagos_tortoise\", \"mouse\",\n",
        "  \"fly\", \"lion\", \"boar\",\n",
        "  \"alligator\", \"human\")\n",
        "\n"
      ],
      "execution_count": null,
      "outputs": []
    },
    {
      "cell_type": "markdown",
      "metadata": {
        "id": "mZxDyGluluAG"
      },
      "source": [
        "Let's say we want to check whether `giraffe`, `greenland_shark` or `lion` occur in `animals`.\n",
        "\n",
        "If we use `|` we would have to write something like this:"
      ]
    },
    {
      "cell_type": "code",
      "metadata": {
        "id": "-d8IOAH0lu2T"
      },
      "source": [
        "animals == \"giraffe\" | animals == \"greenland_shark\"  | animals == \"lion\""
      ],
      "execution_count": null,
      "outputs": []
    },
    {
      "cell_type": "markdown",
      "metadata": {
        "id": "J20wO7mGmLUa"
      },
      "source": [
        "With `%in%` we can simply pass a vector like this:\n",
        "\n",
        "\n"
      ]
    },
    {
      "cell_type": "code",
      "metadata": {
        "id": "UPbTivRMmNal"
      },
      "source": [
        "animals_to_check <-  c(\"giraffe\", \"greenland_shark\", \"lion\")\n",
        "animals %in% animals_to_check"
      ],
      "execution_count": null,
      "outputs": []
    },
    {
      "cell_type": "markdown",
      "metadata": {
        "id": "8SWe960gvukp"
      },
      "source": [
        "Does `greenlands_shark` or `giraffe` occur within our `animals` vector?\n"
      ]
    },
    {
      "cell_type": "code",
      "metadata": {
        "id": "2hlCKkrcv-_J"
      },
      "source": [
        "c(\"greenland_shark\", \"giraffe\") %in% animals"
      ],
      "execution_count": null,
      "outputs": []
    },
    {
      "cell_type": "code",
      "metadata": {
        "id": "JzDbE9GyevcI"
      },
      "source": [
        "animals %in%  c(\"greenland_shark\", \"giraffe\")"
      ],
      "execution_count": null,
      "outputs": []
    },
    {
      "cell_type": "markdown",
      "metadata": {
        "id": "3hwfFLO5iUyR"
      },
      "source": [
        "# Indexing\n",
        "\n",
        "Indexing is done via square brackets `[]` for when you want to know a specific value within your object.\n",
        "\n",
        "> $$\\color{red}{\\text{vector}}[\\color{orange}{\\text{elements}}]$$\n",
        "\n",
        "Exracting the first element of a vector:"
      ]
    },
    {
      "cell_type": "code",
      "metadata": {
        "id": "jbSMeT-qig1H"
      },
      "source": [
        "animal_lifespans[1]"
      ],
      "execution_count": null,
      "outputs": []
    },
    {
      "cell_type": "code",
      "metadata": {
        "id": "N2lGHAGA7aSU"
      },
      "source": [
        "animals[1]"
      ],
      "execution_count": null,
      "outputs": []
    },
    {
      "cell_type": "markdown",
      "metadata": {
        "id": "ZHYwiwqd4Y0X"
      },
      "source": [
        "Exracting the fifth element of a vector:"
      ]
    },
    {
      "cell_type": "code",
      "metadata": {
        "id": "EIVx-YEEij-9"
      },
      "source": [
        "animal_lifespans[5]"
      ],
      "execution_count": null,
      "outputs": []
    },
    {
      "cell_type": "code",
      "metadata": {
        "id": "R0tSDN2s7fd7"
      },
      "source": [
        "animals[5]"
      ],
      "execution_count": null,
      "outputs": []
    },
    {
      "cell_type": "code",
      "metadata": {
        "id": "Ds14oGdWdf4n"
      },
      "source": [
        "animals[c(1, 3, 5)]"
      ],
      "execution_count": null,
      "outputs": []
    },
    {
      "cell_type": "markdown",
      "metadata": {
        "id": "5cAxOXBv8KZ6"
      },
      "source": [
        "## Indexing with logical tests\n",
        "\n",
        "You can also index using logical tests.\n",
        "\n",
        "So if an expression evaluates to `TRUE` it will **keep** that element and when it evaluates to `FALSE` it will remove the **element**.\n",
        "\n",
        "> $$\\color{red}{\\text{vector}}[\\color{orange}{\\text{vector of TRUE/FALSE of same length}}]$$\n",
        "\n",
        "\n",
        "Let's first take a look at a logical test that extracts all animals that have greater lifespans than humans:"
      ]
    },
    {
      "cell_type": "code",
      "metadata": {
        "id": "G--oUtHu70JS"
      },
      "source": [
        "animal_lifespans > human_lifespan"
      ],
      "execution_count": null,
      "outputs": []
    },
    {
      "cell_type": "markdown",
      "metadata": {
        "id": "S-T-oQ3S5Edz"
      },
      "source": [
        "Now we can use square brackets to only keep those animals that have greater lifespans than humans."
      ]
    },
    {
      "cell_type": "code",
      "metadata": {
        "id": "iS81gwtw7g1a"
      },
      "source": [
        "animals[animal_lifespans > human_lifespan]"
      ],
      "execution_count": null,
      "outputs": []
    },
    {
      "cell_type": "markdown",
      "metadata": {
        "id": "B6gH1_4aipPX"
      },
      "source": [
        "# Functions\n",
        "\n",
        "\n",
        "\n",
        "> $\\color{blue}{\\text{\"Everything that happens in R is a function.\"}}$\n",
        "~John M. Chambers\n",
        "\n",
        "\n",
        "You can think of functions as little machines that (in most cases) process some **input** and create an **output**.\n",
        "\n",
        "Input is everything that goes *into* a function:\n",
        "\n",
        "*   **arguments** you can think of as (pre-determined) input types like a lever or numpad.\n",
        "\n",
        "*   **values** you can think of as the various settings that the levers or numpads can have.\n",
        "\n",
        "\n",
        "\n",
        "\n"
      ]
    },
    {
      "cell_type": "markdown",
      "metadata": {
        "id": "faswqpLGsP2v"
      },
      "source": [
        "## The Star Producer\n",
        "\n",
        "Let's consider the following function (that does not exist unfortunately):\n",
        "A `star_producer`!\n",
        "\n",
        "This little machine creates tiny hand-drawn stars depending on some input. It takes two arguments:\n",
        "\n",
        "* `how_many` tells the machine how many stars to produce\n",
        "* `type` tells the machine how the stars should look like (in this case the machine only supports `\"squiggly\"` stars but it could be upgraded in the future when we learn how to create our own functions later on)\n",
        "\n",
        "![Image](https://raw.githubusercontent.com/favstats/hertieschool_datasciencesummerschool/master/img/starproducer2.png)\n",
        "\n",
        "\n",
        "\n",
        "Note: just like levers or numpads you also have to be careful what value type an argument expects. You can't type numbers into a lever and a numpad doesn't do much when you pull it (other than break). Similarly, a certain argument might require you to input a numeric value, or more complex R objects.\n"
      ]
    },
    {
      "cell_type": "markdown",
      "metadata": {
        "id": "A9r-MFKwsSsh"
      },
      "source": [
        "\n",
        "## Get `?help`\n",
        "\n",
        "But how do you know which function takes what kind of values?\n",
        "\n",
        " You can find the documentation of a function when you type in `?function_name`. This should tell you about the arguments, how to use the function and what to expect from its output."
      ]
    },
    {
      "cell_type": "markdown",
      "metadata": {
        "id": "kpPgqaeHqBv3"
      },
      "source": [
        "## Example function: seq\n",
        "\n",
        "Let's try this with a function that is included in every fresh R installation: `seq`."
      ]
    },
    {
      "cell_type": "code",
      "metadata": {
        "id": "sgB9wonPqBC-"
      },
      "source": [
        "?seq"
      ],
      "execution_count": null,
      "outputs": []
    },
    {
      "cell_type": "markdown",
      "metadata": {
        "id": "_K3eqaafqXvI"
      },
      "source": [
        "From the description we can learn that this function is used to\n",
        "\n",
        "> \"[g]enerate regular sequences\".\n",
        "\n",
        "Its first three arguments are this:\n",
        "\n",
        "* `from`, `to`: the starting and (maximal) end values of the sequence.\n",
        "\n",
        "* `by`: number: increment of the sequence.\n",
        "\n",
        "So we specify from when to where our sequence should go and by which number it should increment.\n",
        "\n",
        "Let's first take a look at this within our machine allegory.\n",
        "\n",
        "\n",
        "\n",
        "![Image](https://raw.githubusercontent.com/favstats/hertieschool_datasciencesummerschool/master/img/seq2.png)\n",
        "\n",
        "If we would want to create a vector from 1 to 10 that increments by 1 we can simple specify the following input values for the arguments:\n",
        "\n",
        "* `from`: 1\n",
        "* `to`: 10\n",
        "* `by`: 1\n",
        "\n",
        "\n",
        "This is how that looks like in code:\n",
        "\n",
        "\n"
      ]
    },
    {
      "cell_type": "code",
      "metadata": {
        "id": "GeIRja2Nr22t"
      },
      "source": [
        "seq(from = 1, to = 10, by = 1)"
      ],
      "execution_count": null,
      "outputs": []
    },
    {
      "cell_type": "markdown",
      "metadata": {
        "id": "s1gnXeGcs3d-"
      },
      "source": [
        "### Passing Values\n",
        "\n",
        "Now there are two ways to pass values to functions in R:\n",
        "\n",
        "1.   Pass by argument *names* (we already did this above!)\n",
        "2.   Pass by argument *position*\n",
        "\n",
        "In the former case, we specifically mention which arguments we want to pass our values to.\n",
        "\n",
        "For that, it doesn't matter in which **order** we pass our arguments.\n",
        "\n",
        "So this is perfectly valid code that produces the same result as above even if it seems less intuitive:\n",
        "\n",
        "\n"
      ]
    },
    {
      "cell_type": "code",
      "metadata": {
        "id": "-B2Qu_WNudfr"
      },
      "source": [
        "seq(to = 10, by = 1, from = 1)"
      ],
      "execution_count": null,
      "outputs": []
    },
    {
      "cell_type": "markdown",
      "metadata": {
        "id": "ygTVBPJBugB2"
      },
      "source": [
        "But: **coders are lazy**.\n",
        "\n",
        " There is no need to always specify which argument you mean exactly when you can just match *by position*.\n",
        "\n",
        "So our sequence example could just as well look like this:"
      ]
    },
    {
      "cell_type": "code",
      "metadata": {
        "id": "mYZXmM3ot8kl"
      },
      "source": [
        "seq(1, 10, 1)"
      ],
      "execution_count": null,
      "outputs": []
    },
    {
      "cell_type": "markdown",
      "metadata": {
        "id": "mQltzZ_1t_W8"
      },
      "source": [
        "And it works because the documentation tells us that the first three arguments are `from`, `to`, and `by`.\n",
        "\n",
        "In the future you will see it often that people just leave out the arguments completely so it's good to get used to it."
      ]
    },
    {
      "cell_type": "markdown",
      "metadata": {
        "id": "gIiVjMMcvKRc"
      },
      "source": [
        "## More examples: Mean and Median\n",
        "\n",
        "In fact, most of the time functions have such intuitive structures that we often wouldn't need to even look up the documentation (even though it's advisable to do).\n",
        "\n",
        "An easy function to use is `mean` which simply calculates the average of a numeric vectors.\n",
        "\n",
        "Let's try this with the `animal_lifespans` we created earlier."
      ]
    },
    {
      "cell_type": "code",
      "metadata": {
        "id": "cPcvT6AUvM56"
      },
      "source": [
        "mean(animal_lifespans)"
      ],
      "execution_count": null,
      "outputs": []
    },
    {
      "cell_type": "markdown",
      "metadata": {
        "id": "9Ozx4j7Gv0sY"
      },
      "source": [
        "*Quite* old mean value!"
      ]
    },
    {
      "cell_type": "code",
      "metadata": {
        "id": "cyx-KFGHvv8E"
      },
      "source": [
        "median(animal_lifespans)"
      ],
      "execution_count": null,
      "outputs": []
    },
    {
      "cell_type": "markdown",
      "metadata": {
        "id": "8E7LlRkNv4Oi"
      },
      "source": [
        "Well when we take the median instead of the mean we can see that this is due to high outliers (the median is of course more robust to extreme values).\n",
        "\n",
        "\n",
        "There are of course many more functions in R and we will get to learn some of them during this workshop."
      ]
    },
    {
      "cell_type": "markdown",
      "metadata": {
        "id": "8w4ayHiBF0vo"
      },
      "source": [
        "# Creating our own functions\n",
        "\n",
        "We can create our own function using the call: `function()`.\n",
        "\n",
        "We encode what is supposed to happen within curly brackets `{}`.\n",
        "\n",
        "Here is the anatomy of a function:\n",
        "\n",
        "\n",
        "$\\color{purple}{\\text{name}}$ <- $\\text{function}(\\color{orange}{\\text{argument}})${\n",
        "\n",
        "\n",
        "> $\\color{green}{\\text{# function body}}$\n",
        "\n",
        "> $\\color{lightblue}{\\text{value}}$ <- $\\color{orange}{\\text{argument}}$\n",
        "\n",
        "\n",
        "> $\\text{return(}\\color{lightblue}{\\text{value}}\\text{)}$\n",
        "\n",
        "}\n",
        "\n",
        "* $\\color{purple}{\\text{Function name}}$:\n",
        "  * An identifier by which the function is called\n",
        "\n",
        "* $\\color{orange}{\\text{Argument(s)}}$:\n",
        "  * Contains a list of values passed to the function\n",
        "  * Can also contain a default value like this: `argument = 1`\n",
        "\n",
        "* $\\color{green}{\\text{Function body}}$:\n",
        "  * This is executed each time the function is called\n",
        "\n",
        "* $\\color{lightblue}{\\text{Return value}}$:\n",
        "  * Ends function call & sends the value back to the global environment\n",
        "\n",
        "\n",
        "\n"
      ]
    },
    {
      "cell_type": "markdown",
      "metadata": {
        "id": "6tKIJ6TJa_LX"
      },
      "source": [
        "## Square functions\n",
        "\n",
        "Let's define a function which squares numeric values.\n"
      ]
    },
    {
      "cell_type": "code",
      "metadata": {
        "id": "H0cWMGwamc-B"
      },
      "source": [
        "square <- function(number_to_be_squared) {\n",
        "\n",
        "  squared_number <- number_to_be_squared^2\n",
        "\n",
        "  return(squared_number)\n",
        "\n",
        "}\n"
      ],
      "execution_count": null,
      "outputs": []
    },
    {
      "cell_type": "code",
      "metadata": {
        "id": "ZSL9JfGMnHAh"
      },
      "source": [
        "square(4)"
      ],
      "execution_count": null,
      "outputs": []
    },
    {
      "cell_type": "markdown",
      "metadata": {
        "id": "N_rJWmpYmnoL"
      },
      "source": [
        "> Tip: In RStudio we can just type fun and enter after the popup and RStudio will just automatically generate a template for a function. Unfortunately, this doesn't work in Google Colab.\n",
        "\n"
      ]
    },
    {
      "cell_type": "markdown",
      "metadata": {
        "id": "wOvZ0HEWjaHQ"
      },
      "source": [
        "## Dog to Human years function\n",
        "\n",
        "Let's create a function that is able to calculate dog years into human years. We call the function `dog_to_human_years`."
      ]
    },
    {
      "cell_type": "code",
      "metadata": {
        "id": "8rj7tHNfir_1"
      },
      "source": [
        "dog_to_human_years <- function(animal_years){\n",
        "\n",
        "  human_lifespan <- 122.5\n",
        "  dog_lifespan <- 24\n",
        "\n",
        "  ratio <- human_lifespan/dog_lifespan\n",
        "\n",
        "  human_years <- animal_years*ratio\n",
        "\n",
        "  return(human_years)\n",
        "}"
      ],
      "execution_count": null,
      "outputs": []
    },
    {
      "cell_type": "code",
      "metadata": {
        "id": "t0esf2lkjb6A"
      },
      "source": [
        "dog_to_human_years(8)"
      ],
      "execution_count": null,
      "outputs": []
    },
    {
      "cell_type": "markdown",
      "metadata": {
        "id": "ydFxBJNqjhhk"
      },
      "source": [
        "Works perfect!"
      ]
    },
    {
      "cell_type": "markdown",
      "metadata": {
        "id": "EKjl-4MAnXn_"
      },
      "source": [
        "# Exercises I\n",
        "\n",
        "The following includes a list of exercises that you can complete on your own.\n"
      ]
    },
    {
      "cell_type": "markdown",
      "metadata": {
        "id": "xsQ4j9ZkfLsS"
      },
      "source": [
        "## Task 1\n",
        "\n",
        "Take a look at the table below.\n",
        "\n",
        "Pick three animals from the Animal Lifespan data we haven't talked about yet.\n",
        "\n",
        "Assign the lifespan values to **single** objects with appropriate names.\n",
        "\n",
        "| Animal | Maximum Longevity (in years)|\n",
        "| --- | --- |\n",
        "| Human | 122.5.5 |\n",
        "| Domestic dog | 24.0 |\n",
        "| Domestic cat | 30.0 |\n",
        "| American alligator | 77.0 |\n",
        "| Golden hamster | 3.9 |\n",
        "| King penguin | 26.0 |\n",
        "| Lion|\t27.0 |\n",
        "| Greenland shark\t | 392.0 |\n",
        "| Galapagos tortoise | 177.0 |\n",
        "| African bush elephant\t | 65.0 |\n",
        "| California sea lion\t| 35.7\t |\n",
        "| Fruit fly\t\t| 0.3\t |\n",
        "| House mouse\t\t| 4.0\t |\n",
        "| Giraffe\t\t| 39.5\t |\n",
        "| Wild boar\t\t| 27.0\t|"
      ]
    },
    {
      "cell_type": "code",
      "metadata": {
        "id": "PUSRP4Alo4sq"
      },
      "source": [],
      "execution_count": null,
      "outputs": []
    },
    {
      "cell_type": "markdown",
      "metadata": {
        "id": "WD82xkkZdwt7"
      },
      "source": [
        "## Task 2\n",
        "\n",
        "Create three (different) logical tests which compare the maximum longevity between your chosen animal lifespans.\n",
        "\n",
        "Does the output you get make sense?"
      ]
    },
    {
      "cell_type": "code",
      "metadata": {
        "id": "LKRyx8Ksd-zP"
      },
      "source": [],
      "execution_count": null,
      "outputs": []
    },
    {
      "cell_type": "code",
      "metadata": {
        "id": "wnVxujmXd_Ki"
      },
      "source": [],
      "execution_count": null,
      "outputs": []
    },
    {
      "cell_type": "code",
      "metadata": {
        "id": "9Savb8cJy4eD"
      },
      "source": [],
      "execution_count": null,
      "outputs": []
    },
    {
      "cell_type": "markdown",
      "metadata": {
        "id": "c_kdn4B0dSsE"
      },
      "source": [
        "## Task 3\n",
        "\n",
        "Create two vectors with the help of `c()`:\n",
        "\n",
        "1.  strings (i.e. texts) of all the animals you chose\n",
        "2.  the respective lifespan values (in the same order)"
      ]
    },
    {
      "cell_type": "code",
      "metadata": {
        "id": "4wFZSbTUdnXF"
      },
      "source": [],
      "execution_count": null,
      "outputs": []
    },
    {
      "cell_type": "code",
      "metadata": {
        "id": "aCjHhKgQqzJX"
      },
      "source": [],
      "execution_count": null,
      "outputs": []
    },
    {
      "cell_type": "markdown",
      "metadata": {
        "id": "6Cmk_J5dkZ5x"
      },
      "source": [
        "## Task 4\n",
        "\n",
        "Calculate the mean of your lifespan vector."
      ]
    },
    {
      "cell_type": "code",
      "metadata": {
        "id": "9ak3l34hkd6y"
      },
      "source": [],
      "execution_count": null,
      "outputs": []
    },
    {
      "cell_type": "markdown",
      "metadata": {
        "id": "P_dSD-NOgJQt"
      },
      "source": [
        "## Task 5\n",
        "\n",
        "5.1 Retrieve the *second* value of the vector that contains your animal names.\n",
        "\n",
        "> Tip: Square brackets are your friend."
      ]
    },
    {
      "cell_type": "code",
      "metadata": {
        "id": "OiPsTiEMhHjG"
      },
      "source": [],
      "execution_count": null,
      "outputs": []
    },
    {
      "cell_type": "markdown",
      "metadata": {
        "id": "MWoKxAlphsnq"
      },
      "source": [
        "\n",
        "5.2 Using code, find out which animals in your lifespans vector have a maximum longevity of above 25.\n",
        "\n",
        "> Tip: For an elegant solution you need to use *both* vectors, square brackets and a logical test. If you need help revisit [Indexing with logical tests](https://colab.research.google.com/drive/1dLsdGbkvgn1JbWgsy9Z-pFmPd_2MG4Xu#scrollTo=5cAxOXBv8KZ6)"
      ]
    },
    {
      "cell_type": "code",
      "metadata": {
        "id": "ZtT5id-YjC-t"
      },
      "source": [],
      "execution_count": null,
      "outputs": []
    },
    {
      "cell_type": "markdown",
      "metadata": {
        "id": "dyejLU_ko5GR"
      },
      "source": [
        "## Task 6\n",
        "\n",
        "Calculate the animal to human conversion ratios for the animals you've picked and assign the results to an object.\n",
        "\n"
      ]
    },
    {
      "cell_type": "code",
      "metadata": {
        "id": "vY9WXa6lo6un"
      },
      "source": [],
      "execution_count": null,
      "outputs": []
    },
    {
      "cell_type": "markdown",
      "metadata": {
        "id": "99_BJtkZo7Lg"
      },
      "source": [
        "## Task 7\n",
        "\n",
        "Calculate the human years for your picked animals and assume they are all 5 years old.\n",
        "\n"
      ]
    },
    {
      "cell_type": "code",
      "metadata": {
        "id": "EdG94ovao8Y6"
      },
      "source": [],
      "execution_count": null,
      "outputs": []
    },
    {
      "cell_type": "markdown",
      "metadata": {
        "id": "19tnxEpGo8xo"
      },
      "source": [
        "## Task 8\n",
        "\n",
        "Pick one of the animals you chose and create a function which takes as input animal years and outputs human years. Test the function and validate with results from the seventh exercise.\n",
        "\n",
        "You can name the function in this style:\n",
        "\n",
        "`[you_animal_name]_to_human_years`\n",
        "\n",
        "> Tip: If you need help revisit the section [Dog to Human years function](https://colab.research.google.com/drive/1dLsdGbkvgn1JbWgsy9Z-pFmPd_2MG4Xu#scrollTo=wOvZ0HEWjaHQ&line=3&uniqifier=1)\n",
        "\n",
        "Create the function here:\n",
        "\n"
      ]
    },
    {
      "cell_type": "code",
      "metadata": {
        "id": "NYeZs57lo9OG"
      },
      "source": [],
      "execution_count": null,
      "outputs": []
    },
    {
      "cell_type": "markdown",
      "metadata": {
        "id": "Wg83iq78jQs5"
      },
      "source": [
        "Try it out here:"
      ]
    },
    {
      "cell_type": "code",
      "metadata": {
        "id": "BV-Gzwz2jSqL"
      },
      "source": [],
      "execution_count": null,
      "outputs": []
    },
    {
      "cell_type": "markdown",
      "metadata": {
        "id": "PGoajMWBpbWx"
      },
      "source": [
        "# Data frames\n",
        "\n",
        "Data frames are the main R object that we will be interacting with. In many ways you already know about them too.\n",
        "\n",
        "An example for a dataframe would be the table from the [Animal Ageing and Longevity Database](https://www.johnsnowlabs.com/marketplace/the-animal-aging-and-longevity-database/) we already saw earlier.\n",
        "\n",
        "\n",
        "| Animal | Maximum Longevity (in years)|\n",
        "| --- | --- |\n",
        "| Human | 122.5 |\n",
        "| Domestic dog | 24.0 |\n",
        "| Domestic cat | 30.0 |\n",
        "| American alligator | 77.0 |\n",
        "| Golden hamster | 3.9 |\n",
        "| King penguin | 26.0 |\n",
        "| Lion|\t27.0 |\n",
        "| Greenland shark\t | 392.0 |\n",
        "| Galapagos tortoise | 177.0 |\n",
        "| African bush elephant\t | 65.0 |\n",
        "| California sea lion\t| 35.7\t |\n",
        "| Fruit fly\t\t| 0.3\t |\n",
        "| House mouse\t\t| 4.0\t |\n",
        "| Giraffe\t\t| 39.5\t |\n",
        "| Wild boar\t\t| 27.0\t|\n",
        "\n",
        "\n",
        "\n"
      ]
    },
    {
      "cell_type": "code",
      "metadata": {
        "id": "YWsQl25lp-JQ"
      },
      "source": [
        "human_lifespan <- 122.5\n",
        "dog_lifespan <- 24\n",
        "lion_lifespan <- 27\n",
        "mouse_lifespan <- 4\n",
        "fly_lifespan <- 0.3\n",
        "boar_lifespan <- 27\n",
        "alligator_lifespan <- 77\n",
        "greenland_shark_lifespan <- 392\n",
        "galapagos_tortoise_lifespan <- 177\n",
        "\n",
        "animal_lifespans <- c(greenland_shark_lifespan, dog_lifespan,\n",
        "  galapagos_tortoise_lifespan,\n",
        "  mouse_lifespan, fly_lifespan,\n",
        "  lion_lifespan, boar_lifespan,\n",
        "  alligator_lifespan, human_lifespan)\n",
        "\n",
        "animals <- c(\"greenland_shark\", \"dog\",\n",
        "  \"galapagos_tortoise\", \"mouse\",\n",
        "  \"fly\", \"lion\", \"boar\",\n",
        "  \"alligator\", \"human\")\n",
        "\n"
      ],
      "execution_count": null,
      "outputs": []
    },
    {
      "cell_type": "markdown",
      "metadata": {
        "id": "BPfV2l8QN70T"
      },
      "source": [
        "To create a data frame from scratch we can simply pass two (same-sized) vectors to the function `data.frame`.\n",
        "\n"
      ]
    },
    {
      "cell_type": "code",
      "metadata": {
        "id": "eUybA-sxAX3D"
      },
      "source": [
        "data.frame(animals, animal_lifespans)\n"
      ],
      "execution_count": null,
      "outputs": []
    },
    {
      "cell_type": "markdown",
      "metadata": {
        "id": "xdSYNPT5bYpO"
      },
      "source": [
        "We can also assign data frames."
      ]
    },
    {
      "cell_type": "code",
      "metadata": {
        "id": "FL1Q7BefAbxp"
      },
      "source": [
        "animals_data <- data.frame(animals, animal_lifespans)\n",
        "\n",
        "animals_data"
      ],
      "execution_count": null,
      "outputs": []
    },
    {
      "cell_type": "markdown",
      "metadata": {
        "id": "hjR2yqsxbhPZ"
      },
      "source": [
        "### Data Dimenions\n",
        "\n",
        "We can use functions to determine the shape of our data."
      ]
    },
    {
      "cell_type": "markdown",
      "metadata": {
        "id": "8nsZ5sWRbLpy"
      },
      "source": [
        "#### How many columns does the data have?\n",
        "\n",
        "We can simply use the function `ncol()` to determine the number of columns."
      ]
    },
    {
      "cell_type": "code",
      "metadata": {
        "id": "QEfxcwiVbQ4x"
      },
      "source": [
        "ncol(animals_data)"
      ],
      "execution_count": null,
      "outputs": []
    },
    {
      "cell_type": "markdown",
      "metadata": {
        "id": "9edL4sVKbYhS"
      },
      "source": [
        "#### How many rows does the data have?\n",
        "\n",
        "Run `nrow()` to determine the number of rows."
      ]
    },
    {
      "cell_type": "code",
      "metadata": {
        "id": "nZB8Z0AqbvxP"
      },
      "source": [
        "nrow(animals_data)"
      ],
      "execution_count": null,
      "outputs": []
    },
    {
      "cell_type": "markdown",
      "metadata": {
        "id": "3BhKl8y-b81a"
      },
      "source": [
        "#### `dim()`\n",
        "\n",
        "We can also use `dim()` to get the same information in one call:"
      ]
    },
    {
      "cell_type": "code",
      "metadata": {
        "id": "jWHxBK38cCsp"
      },
      "source": [
        "dim(animals_data)"
      ],
      "execution_count": null,
      "outputs": []
    },
    {
      "cell_type": "markdown",
      "metadata": {
        "id": "thoLkuEEcJbV"
      },
      "source": [
        "1st value counts the rows, 2nd value counts the columns."
      ]
    },
    {
      "cell_type": "markdown",
      "metadata": {
        "id": "ecW3rvndAmm_"
      },
      "source": [
        "## Variable Names\n",
        "\n",
        "We can also retrieve the variable names of any data frame by passing it to `names()`."
      ]
    },
    {
      "cell_type": "code",
      "metadata": {
        "id": "SOycpYlFAiyL"
      },
      "source": [
        "names(animals_data)"
      ],
      "execution_count": null,
      "outputs": []
    },
    {
      "cell_type": "markdown",
      "metadata": {
        "id": "JnvqIzz7ApCo"
      },
      "source": [
        "## Retrieve variables\n",
        "\n",
        "If we want to retrieve specific variables from a data frame we can do that via the `$` operator.\n",
        "\n",
        "> $$\\color{red}{\\text{dataset}}$\\color{orange}{\\text{variable_name}}$$\n",
        "\n",
        "\n",
        "Think of the `$` symbol as a door opener that helps you check what is inside an object."
      ]
    },
    {
      "cell_type": "code",
      "metadata": {
        "id": "iwxLMgN7Argp"
      },
      "source": [
        "animals_data$animal_lifespans"
      ],
      "execution_count": null,
      "outputs": []
    },
    {
      "cell_type": "code",
      "metadata": {
        "id": "MLFaO_NvAu3v"
      },
      "source": [
        "animals_data$animals"
      ],
      "execution_count": null,
      "outputs": []
    },
    {
      "cell_type": "markdown",
      "metadata": {
        "id": "IabZF6yLA5tC"
      },
      "source": [
        "## (Re-)Code variables\n",
        "\n",
        "We can also use the `$` data access to add **new variables**.\n",
        "\n",
        "In the below case we create a variable called `animal_to_human` which holds all the human to animal years conversions.\n",
        "\n",
        "We do that by simply assigning a vector containing that information to `animals_data$animal_to_human` even if that variable doesn't exist yet."
      ]
    },
    {
      "cell_type": "code",
      "metadata": {
        "id": "EF0IAtR7A7YF"
      },
      "source": [
        "animals_data$animal_to_human <- animals_data$animal_lifespans / human_lifespan"
      ],
      "execution_count": null,
      "outputs": []
    },
    {
      "cell_type": "code",
      "metadata": {
        "id": "sQQC5Ha4BFnm"
      },
      "source": [
        "animals_data"
      ],
      "execution_count": null,
      "outputs": []
    },
    {
      "cell_type": "markdown",
      "metadata": {
        "id": "vkipEWbsAzyt"
      },
      "source": [
        "## Indexing\n",
        "\n",
        "Just as we did before with vectors we can also index data frames with square brackets: `[]`. However, unlike vectors, data frames have **two dimensions**.\n",
        "\n",
        "So that is why the square brackets in this case take two inputs, separated by a comma:\n",
        "\n",
        "> $$\\color{red}{\\text{dataset}}[\\color{orange}{\\text{rows}},\\color{lightblue}{\\text{columns}}]$$\n",
        "\n",
        "* The first value after the opening square bracket refers to $\\color{orange}{\\text{which rows}}$ you want to keep.\n",
        "\n",
        "* The second value refers to $\\color{lightblue}{\\text{which columns}}$ you want to keep.\n",
        "\n",
        "So if we only want to keep the first row of the first column of our `animals_data` that is how we would do that:\n"
      ]
    },
    {
      "cell_type": "code",
      "metadata": {
        "id": "boqQTTBABPRK"
      },
      "source": [
        "animals_data[1, 1]"
      ],
      "execution_count": null,
      "outputs": []
    },
    {
      "cell_type": "markdown",
      "metadata": {
        "id": "eToOVgqGSWkm"
      },
      "source": [
        "*If* we want to keep a certain row but all columns we can do this by leaving the *second* value within the square brackets empty."
      ]
    },
    {
      "cell_type": "code",
      "metadata": {
        "id": "0VZlAcAzBSyb"
      },
      "source": [
        "animals_data[1, ]"
      ],
      "execution_count": null,
      "outputs": []
    },
    {
      "cell_type": "markdown",
      "metadata": {
        "id": "9ic_6unNS-Vk"
      },
      "source": [
        "The same works for columns but keep all rows.\n",
        "\n",
        "This actually returns a vector:"
      ]
    },
    {
      "cell_type": "code",
      "metadata": {
        "id": "CcawnyuaBVzf"
      },
      "source": [
        "animals_data[, 1]"
      ],
      "execution_count": null,
      "outputs": []
    },
    {
      "cell_type": "markdown",
      "metadata": {
        "id": "CUhBsbhkTFVP"
      },
      "source": [
        "## Indexing with logical tests\n",
        "\n",
        "\n",
        "We can also do more complex indexing by keeping only the rows that fulfill a certain condition. Let's say we only want to keep the rows that contain animals that have longer lifespans than humans."
      ]
    },
    {
      "cell_type": "code",
      "metadata": {
        "id": "jTEejiunTOyn"
      },
      "source": [
        "animals_data$animal_lifespans > human_lifespan"
      ],
      "execution_count": null,
      "outputs": []
    },
    {
      "cell_type": "code",
      "metadata": {
        "id": "P0w4JqnxBYdA"
      },
      "source": [
        "animals_data[animals_data$animal_lifespans > human_lifespan, ]"
      ],
      "execution_count": null,
      "outputs": []
    }
  ]
}